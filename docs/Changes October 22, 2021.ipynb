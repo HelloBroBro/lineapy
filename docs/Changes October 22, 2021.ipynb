{
 "cells": [
  {
   "cell_type": "code",
   "execution_count": null,
   "id": "126928e0-7758-4420-9218-6555385b7c01",
   "metadata": {
    "tags": []
   },
   "outputs": [],
   "source": [
    "import lineapy\n",
    "import lineapy.ipython\n",
    "lineapy.ipython.start()"
   ]
  },
  {
   "cell_type": "markdown",
   "id": "343aecae-47e6-4152-ab71-2e092caebc3e",
   "metadata": {},
   "source": [
    "# Updates for the week of October 17th-22nd, 2021\n",
    "\n",
    "Here is a list of what we have been up to this week!\n",
    "\n",
    "## New Features\n",
    "\n",
    "This week we continued add language support for functions and made our view/mutation tracking more robust."
   ]
  },
  {
   "cell_type": "markdown",
   "id": "2884a1c1-21e0-4292-9a5c-2103d3d7ad84",
   "metadata": {},
   "source": [
    "### `lambda` support\n",
    "\n",
    "We noticed that many data science notebooks use `lambda` functions, often as arguments to pandas calls, so we worked on adding support for them. The initial support landed in [#322](https://github.com/LineaLabs/lineapy/pull/322), by Shardul:"
   ]
  },
  {
   "cell_type": "code",
   "execution_count": null,
   "id": "7f8716a9-a80f-47ec-8d3a-d544cce932b3",
   "metadata": {
    "tags": []
   },
   "outputs": [],
   "source": [
    "add_ten = lambda a: a + 10\n",
    "\n",
    "ten_range = list(map(add_ten, range(10)))\n",
    "lineapy.linea_publish(ten_range, \"ten_range\")\n",
    "ten_range"
   ]
  },
  {
   "cell_type": "markdown",
   "id": "7fb88cb0-edbd-4f62-a62e-5f832c2719e1",
   "metadata": {},
   "source": [
    "### Function Late Binding"
   ]
  },
  {
   "cell_type": "markdown",
   "id": "0c7a1c34-bbd4-40ef-85a1-5483a39bc98f",
   "metadata": {},
   "source": [
    "Then in [#329](https://github.com/LineaLabs/lineapy/pull/329) we added support for depending on global variables, and \"late binding\", a fun feature of Python where functions that use variables defined in the outer scope get them at call time and not creation time:"
   ]
  },
  {
   "cell_type": "code",
   "execution_count": null,
   "id": "f4e95d4e-6866-422a-8515-0da5ed8625f1",
   "metadata": {
    "tags": []
   },
   "outputs": [],
   "source": [
    "b = 100\n",
    "def add_to_b(a):\n",
    "    return a + b\n",
    "\n",
    "initial_add = add_to_b(10)\n",
    "lineapy.linea_publish(initial_add, \"initial_add\")\n",
    "initial_add"
   ]
  },
  {
   "cell_type": "code",
   "execution_count": null,
   "id": "17e4dc1f-349d-452e-8b81-4f5570e1bc89",
   "metadata": {},
   "outputs": [],
   "source": [
    "b = 90\n",
    "next_add = add_to_b(10)\n",
    "lineapy.linea_publish(next_add, \"next_add\")\n",
    "next_add"
   ]
  },
  {
   "cell_type": "markdown",
   "id": "055c4a29-e443-4522-90c3-f6813a9f7abb",
   "metadata": {},
   "source": [
    "### View/Mutation Tracking\n",
    "\n",
    "Last week we added initial support for tracking when a function mutates its arguments. For example, if you have a model in Scikit-Learn and you call `fit` on it, this will modify the model. Then if you call predict, the result of the prediction should depend on the `fit` call, which means tracking that `fit` mutated the model itself when it is called.\n",
    "\n",
    "This week we made our view and mutation tracking more robust by treating all views as bidrectional. Let's start with a small example:"
   ]
  },
  {
   "cell_type": "code",
   "execution_count": null,
   "id": "bced48bc-e7ee-464f-9d44-477a4c0d86bd",
   "metadata": {},
   "outputs": [],
   "source": [
    "inner_list = []\n",
    "outer_list = [inner_list]"
   ]
  },
  {
   "cell_type": "markdown",
   "id": "1bda2a3e-aef5-4f8a-9931-fe3054a6533b",
   "metadata": {},
   "source": [
    "Now we consider `inner_list` and `outer_list` to be \"views\" of one another. Which means that mutating one might mutate the other:"
   ]
  },
  {
   "cell_type": "code",
   "execution_count": null,
   "id": "79983592-2f53-4570-bd62-bfc106564916",
   "metadata": {
    "tags": []
   },
   "outputs": [],
   "source": [
    "inner_list.append(10)\n",
    "outer_list[0].append(11)\n",
    "\n",
    "lineapy.linea_publish(inner_list, \"inner_list\")\n",
    "lineapy.linea_publish(outer_list, \"outer_list\")\n",
    "\n",
    "outer_list"
   ]
  },
  {
   "cell_type": "markdown",
   "id": "2bf5d06b-e4c5-4758-a5cc-d07cd85b7ce7",
   "metadata": {},
   "source": [
    "### Slices\n",
    "\n",
    "Currently we have to stop lineapy to extract out any slices. From creating this notebook, it seems like it would be much more natural to be able to see the slices as we continue tracking, so that might be a good item for next week!"
   ]
  },
  {
   "cell_type": "code",
   "execution_count": null,
   "id": "e06afe1b-3941-4ea0-bd38-7050ded4cb31",
   "metadata": {},
   "outputs": [],
   "source": [
    "res = lineapy.ipython.stop()"
   ]
  },
  {
   "cell_type": "markdown",
   "id": "65c7ecd4-a646-4e59-979b-8d3e269000cf",
   "metadata": {},
   "source": [
    "#### `lambda` support"
   ]
  },
  {
   "cell_type": "markdown",
   "id": "39ad56aa-b82f-4507-8849-bced7eb8d0de",
   "metadata": {},
   "source": [
    "We can see that we capture lambda function and can slice with them:"
   ]
  },
  {
   "cell_type": "code",
   "execution_count": null,
   "id": "0986592b-d9c3-4642-aab7-941bff17d34b",
   "metadata": {
    "tags": []
   },
   "outputs": [],
   "source": [
    "print(res.slice('ten_range'))"
   ]
  },
  {
   "cell_type": "markdown",
   "id": "7502f7c4-7e0f-403c-ab73-d9090ba81e46",
   "metadata": {},
   "source": [
    "#### Function Late Binding"
   ]
  },
  {
   "cell_type": "markdown",
   "id": "7ae0156b-61f0-491e-b78b-b743857477f7",
   "metadata": {},
   "source": [
    "If we slice this on the first result, then we see it correctly depends on the first value of `b`."
   ]
  },
  {
   "cell_type": "code",
   "execution_count": null,
   "id": "f6f5abc5-fdb0-4469-bab5-0628225b7c8f",
   "metadata": {},
   "outputs": [],
   "source": [
    "print(res.slice('initial_add'))"
   ]
  },
  {
   "cell_type": "markdown",
   "id": "8b04b067-9fa0-4cad-b4e4-78dd827cfb7e",
   "metadata": {},
   "source": [
    "If we slice on the second, it sees that `b` has been rebound and picks up the second binding, seeing that the first is unnecessary. "
   ]
  },
  {
   "cell_type": "code",
   "execution_count": null,
   "id": "fe18ebcc-de76-45a1-8919-0eac0b6ac37e",
   "metadata": {},
   "outputs": [],
   "source": [
    "print(res.slice('next_add'))"
   ]
  },
  {
   "cell_type": "markdown",
   "id": "f80135f8-f439-442f-aef5-f936962f50e7",
   "metadata": {},
   "source": [
    "#### View/Mutation Tracking\n",
    "\n",
    "If we slice on either `inner_list` or `outer_list`, we can see that both mutations are included, since they are \"views\" of one another"
   ]
  },
  {
   "cell_type": "code",
   "execution_count": null,
   "id": "d0643492-3311-4f32-9d53-8d28bc21d1af",
   "metadata": {},
   "outputs": [],
   "source": [
    "print(res.slice('inner_list'))"
   ]
  },
  {
   "cell_type": "code",
   "execution_count": null,
   "id": "f62f146a-d94a-4f71-beee-50885389ac66",
   "metadata": {},
   "outputs": [],
   "source": [
    "print(res.slice('outer_list'))"
   ]
  },
  {
   "cell_type": "markdown",
   "id": "ab16df67-de26-4844-b498-ca658a1f9cb5",
   "metadata": {},
   "source": [
    "## Continued Progress\n",
    "\n",
    "### Airflow\n",
    "\n",
    "We are moving towards having a working flow for producing Airflow jobs from Linea scripts [in #320](https://github.com/LineaLabs/lineapy/pull/320), which Mike is heading up thanks to his extensive Airflow experience!\n",
    "\n",
    "### Multi Notebook Experience\n",
    "\n",
    "We are also actively working on adding support for getting artifacts you have already saved, in order to fascilitate a multi notebook or script experience, where in one notebook you might do some data processing, and then pick up the results in the next notebook. Yifan has been working on that in [#297].(https://github.com/LineaLabs/lineapy/pull/297)\n",
    "\n",
    "### Larger Test Notebook Corpus\n",
    "\n",
    "We have been working on adding more notebooks so we can test Linea against them and see how it performs on real world use cases. Yifan added a few Kaggle noteboks in [#318](https://github.com/LineaLabs/lineapy/pull/318), which is what pushed us to add `lambda` support, and Shardul is working on adding a larger set of Kaggle notebooks to a seperate repo which we can use for testing."
   ]
  }
 ],
 "metadata": {
  "kernelspec": {
   "display_name": "Python 3 (ipykernel)",
   "language": "python",
   "name": "python3"
  },
  "language_info": {
   "codemirror_mode": {
    "name": "ipython",
    "version": 3
   },
   "file_extension": ".py",
   "mimetype": "text/x-python",
   "name": "python",
   "nbconvert_exporter": "python",
   "pygments_lexer": "ipython3",
   "version": "3.9.7"
  },
  "widgets": {
   "application/vnd.jupyter.widget-state+json": {
    "state": {},
    "version_major": 2,
    "version_minor": 0
   }
  }
 },
 "nbformat": 4,
 "nbformat_minor": 5
}
