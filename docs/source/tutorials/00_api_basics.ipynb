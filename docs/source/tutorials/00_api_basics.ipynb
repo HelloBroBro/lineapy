{
 "cells": [
  {
   "cell_type": "markdown",
   "id": "df259c51-860e-4a7d-9f3c-95ebf6fbb962",
   "metadata": {},
   "source": [
    "# API Basics"
   ]
  },
  {
   "cell_type": "markdown",
   "id": "742aaeee-79cd-4969-a3db-e78089df8338",
   "metadata": {},
   "source": [
    "In this tutorial, we will cover basic functionalities supported by `lineapy` using simple examples."
   ]
  },
  {
   "cell_type": "code",
   "execution_count": 1,
   "id": "3b37f98f-ca07-461f-9f76-eaabc4ed85b5",
   "metadata": {},
   "outputs": [],
   "source": [
    "import lineapy\n",
    "import pandas as pd"
   ]
  },
  {
   "cell_type": "markdown",
   "id": "7e1eb514-ad0a-48fa-89d1-3adff56b6c64",
   "metadata": {},
   "source": [
    "First, let’s create toy data to use."
   ]
  },
  {
   "cell_type": "code",
   "execution_count": 2,
   "id": "410e0e61-9135-4067-8fb0-3538757ac9b7",
   "metadata": {},
   "outputs": [],
   "source": [
    "# Create toy data to use\n",
    "df = pd.DataFrame({\n",
    "    \"name\": [\"John\", \"Mary\", \"Nick\", \"Stacy\", \"Tom\", \"Ava\"],\n",
    "    \"gender\": [\"M\", \"F\", \"M\", \"F\", \"M\", \"F\"],\n",
    "    \"height\": [183, 175, 170, 162, 168, 185],\n",
    "    \"weight\": [85, 70, 63, 50, 75, 72],\n",
    "})"
   ]
  },
  {
   "cell_type": "code",
   "execution_count": 3,
   "id": "7cc4e268-e4d4-48e3-8ae2-7f25723be3e2",
   "metadata": {},
   "outputs": [
    {
     "data": {
      "text/html": [
       "<div>\n",
       "<style scoped>\n",
       "    .dataframe tbody tr th:only-of-type {\n",
       "        vertical-align: middle;\n",
       "    }\n",
       "\n",
       "    .dataframe tbody tr th {\n",
       "        vertical-align: top;\n",
       "    }\n",
       "\n",
       "    .dataframe thead th {\n",
       "        text-align: right;\n",
       "    }\n",
       "</style>\n",
       "<table border=\"1\" class=\"dataframe\">\n",
       "  <thead>\n",
       "    <tr style=\"text-align: right;\">\n",
       "      <th></th>\n",
       "      <th>name</th>\n",
       "      <th>gender</th>\n",
       "      <th>height</th>\n",
       "      <th>weight</th>\n",
       "    </tr>\n",
       "  </thead>\n",
       "  <tbody>\n",
       "    <tr>\n",
       "      <th>0</th>\n",
       "      <td>John</td>\n",
       "      <td>M</td>\n",
       "      <td>183</td>\n",
       "      <td>85</td>\n",
       "    </tr>\n",
       "    <tr>\n",
       "      <th>1</th>\n",
       "      <td>Mary</td>\n",
       "      <td>F</td>\n",
       "      <td>175</td>\n",
       "      <td>70</td>\n",
       "    </tr>\n",
       "    <tr>\n",
       "      <th>2</th>\n",
       "      <td>Nick</td>\n",
       "      <td>M</td>\n",
       "      <td>170</td>\n",
       "      <td>63</td>\n",
       "    </tr>\n",
       "    <tr>\n",
       "      <th>3</th>\n",
       "      <td>Stacy</td>\n",
       "      <td>F</td>\n",
       "      <td>162</td>\n",
       "      <td>50</td>\n",
       "    </tr>\n",
       "    <tr>\n",
       "      <th>4</th>\n",
       "      <td>Tom</td>\n",
       "      <td>M</td>\n",
       "      <td>168</td>\n",
       "      <td>75</td>\n",
       "    </tr>\n",
       "    <tr>\n",
       "      <th>5</th>\n",
       "      <td>Ava</td>\n",
       "      <td>F</td>\n",
       "      <td>185</td>\n",
       "      <td>72</td>\n",
       "    </tr>\n",
       "  </tbody>\n",
       "</table>\n",
       "</div>"
      ],
      "text/plain": [
       "    name gender  height  weight\n",
       "0   John      M     183      85\n",
       "1   Mary      F     175      70\n",
       "2   Nick      M     170      63\n",
       "3  Stacy      F     162      50\n",
       "4    Tom      M     168      75\n",
       "5    Ava      F     185      72"
      ]
     },
     "execution_count": 3,
     "metadata": {},
     "output_type": "execute_result"
    }
   ],
   "source": [
    "# View data\n",
    "df"
   ]
  },
  {
   "cell_type": "markdown",
   "id": "6064f05a-464f-450c-ab60-848109fda8b8",
   "metadata": {},
   "source": [
    "Now, we might be interested in seeing if the data reflects any gender differences in these physical traits."
   ]
  },
  {
   "cell_type": "code",
   "execution_count": 4,
   "id": "5dde49ae-8f40-44f9-b03f-161fbdf12af5",
   "metadata": {},
   "outputs": [],
   "source": [
    "# Calculate male averages\n",
    "avg_male_height = df.query(\"gender == 'M'\")[\"height\"].mean()\n",
    "avg_male_weight = df.query(\"gender == 'M'\")[\"weight\"].mean()"
   ]
  },
  {
   "cell_type": "code",
   "execution_count": 5,
   "id": "4b86f61f-14d0-43b5-8f08-dfde7d5747d5",
   "metadata": {},
   "outputs": [],
   "source": [
    "# Calculate female averages\n",
    "avg_female_height = df.query(\"gender == 'F'\")[\"height\"].mean()\n",
    "avg_female_weight = df.query(\"gender == 'F'\")[\"weight\"].mean()"
   ]
  },
  {
   "cell_type": "code",
   "execution_count": 6,
   "id": "cffdbaeb-6d91-405f-9613-6fcefda504ab",
   "metadata": {},
   "outputs": [],
   "source": [
    "# Calculate gender differences\n",
    "diff_avg_height = avg_male_height - avg_female_height\n",
    "diff_avg_weight = avg_male_weight - avg_female_weight"
   ]
  },
  {
   "cell_type": "code",
   "execution_count": 7,
   "id": "05473239-4552-4edb-ab9c-58ae8875a2e4",
   "metadata": {},
   "outputs": [
    {
     "name": "stdout",
     "output_type": "stream",
     "text": [
      "Difference in average height: -0.3333333333333428\n",
      "Difference in average weight: 10.333333333333329\n"
     ]
    }
   ],
   "source": [
    "# View result\n",
    "print(\"Difference in average height:\", diff_avg_height)\n",
    "print(\"Difference in average weight:\", diff_avg_weight)"
   ]
  },
  {
   "cell_type": "markdown",
   "id": "123e23a1-68b7-4f62-bddc-1ab8534b8600",
   "metadata": {},
   "source": [
    "From the current data set, we do not observe a significant gender difference in height. On the other hand, we see that males overall have heavier weights than females."
   ]
  },
  {
   "cell_type": "markdown",
   "id": "c9cd1bbc-af3b-44e2-9a33-276781461a79",
   "metadata": {},
   "source": [
    "## Storing an Artifact with `save()`"
   ]
  },
  {
   "cell_type": "markdown",
   "id": "f113fb06-f017-4162-93df-ef406b00dced",
   "metadata": {},
   "source": [
    "Let’s say we are particularly interested in tracking the average height difference. You can use `lineapy`’s `save()` method for this.\n",
    "\n",
    "The `save()` method allows you to save a variable's value and history as a data type called a `LineaArtifact`. The method requires two arguments: the variable to save and the string name to save it as. It returns the saved artifact."
   ]
  },
  {
   "cell_type": "code",
   "execution_count": 8,
   "id": "0cf4a382-6a38-4e3e-8134-ef867a6150f5",
   "metadata": {},
   "outputs": [],
   "source": [
    "# Store a variable as an artifact\n",
    "artifact = lineapy.save(diff_avg_height, \"gender_diff_avg_height\")"
   ]
  },
  {
   "cell_type": "code",
   "execution_count": 9,
   "id": "56a15689-7d6d-4a01-926b-c51f8477c69c",
   "metadata": {},
   "outputs": [
    {
     "name": "stdout",
     "output_type": "stream",
     "text": [
      "<class 'lineapy.graph_reader.apis.LineaArtifact'>\n"
     ]
    }
   ],
   "source": [
    "# Check object type\n",
    "print(type(artifact))"
   ]
  },
  {
   "cell_type": "markdown",
   "id": "a5a43371-2fc9-4c37-9d41-e7be828c10b5",
   "metadata": {},
   "source": [
    "`LineaArtifact` object has two major attributes:\n",
    "\n",
    "- `code`: Minimal essential code to get to the final state of the artifact.\n",
    "- `value`: Final state of the artifact.\n",
    "\n",
    "Hence, for the current artifact, we see:"
   ]
  },
  {
   "cell_type": "code",
   "execution_count": 10,
   "id": "20204203-363c-46c9-a976-8ac74ffd9e96",
   "metadata": {},
   "outputs": [
    {
     "name": "stdout",
     "output_type": "stream",
     "text": [
      "import pandas as pd\n",
      "df = pd.DataFrame({\n",
      "    \"name\": [\"John\", \"Mary\", \"Nick\", \"Stacy\", \"Tom\", \"Ava\"],\n",
      "    \"gender\": [\"M\", \"F\", \"M\", \"F\", \"M\", \"F\"],\n",
      "    \"height\": [183, 175, 170, 162, 168, 185],\n",
      "    \"weight\": [85, 70, 63, 50, 75, 72],\n",
      "})\n",
      "avg_male_height = df.query(\"gender == 'M'\")[\"height\"].mean()\n",
      "avg_female_height = df.query(\"gender == 'F'\")[\"height\"].mean()\n",
      "diff_avg_height = avg_male_height - avg_female_height\n",
      "\n"
     ]
    }
   ],
   "source": [
    "# Check minimal essential code to get to the final state of the artifact\n",
    "print(artifact.code)"
   ]
  },
  {
   "cell_type": "code",
   "execution_count": 11,
   "id": "dbb3ebd5-6979-489f-ae28-4fff9165928f",
   "metadata": {},
   "outputs": [
    {
     "name": "stdout",
     "output_type": "stream",
     "text": [
      "-0.3333333333333428\n"
     ]
    }
   ],
   "source": [
    "# Check the final state of the artifact\n",
    "print(artifact.value)"
   ]
  },
  {
   "cell_type": "markdown",
   "id": "cfd03dad-14b8-470e-8651-18a6d14fd2f0",
   "metadata": {},
   "source": [
    "## Retrieving an Artifact with `get()`"
   ]
  },
  {
   "cell_type": "markdown",
   "id": "fd81dfc3-293e-4cb9-b4f1-109232cb6dc3",
   "metadata": {},
   "source": [
    "You can also retrieve any stored artifact using the `get()` method. The method takes the string name of the artifact as its argument and returns the corresponding artifact."
   ]
  },
  {
   "cell_type": "code",
   "execution_count": 12,
   "id": "6978f92f-2488-45e4-aebb-707f0113c065",
   "metadata": {},
   "outputs": [],
   "source": [
    "# Retrieve a saved artifact\n",
    "artifact2 = lineapy.get(\"gender_diff_avg_height\")"
   ]
  },
  {
   "cell_type": "code",
   "execution_count": 13,
   "id": "eeab999d-aba2-4853-9c26-a9811c3fcb00",
   "metadata": {},
   "outputs": [
    {
     "name": "stdout",
     "output_type": "stream",
     "text": [
      "import pandas as pd\n",
      "df = pd.DataFrame({\n",
      "    \"name\": [\"John\", \"Mary\", \"Nick\", \"Stacy\", \"Tom\", \"Ava\"],\n",
      "    \"gender\": [\"M\", \"F\", \"M\", \"F\", \"M\", \"F\"],\n",
      "    \"height\": [183, 175, 170, 162, 168, 185],\n",
      "    \"weight\": [85, 70, 63, 50, 75, 72],\n",
      "})\n",
      "avg_male_height = df.query(\"gender == 'M'\")[\"height\"].mean()\n",
      "avg_female_height = df.query(\"gender == 'F'\")[\"height\"].mean()\n",
      "diff_avg_height = avg_male_height - avg_female_height\n",
      "\n"
     ]
    }
   ],
   "source": [
    "# Check minimal essential code to get to the final state of the artifact\n",
    "print(artifact2.code)"
   ]
  },
  {
   "cell_type": "code",
   "execution_count": 14,
   "id": "8aadd057-587a-4552-b31e-46cd4e71245c",
   "metadata": {},
   "outputs": [
    {
     "name": "stdout",
     "output_type": "stream",
     "text": [
      "-0.3333333333333428\n"
     ]
    }
   ],
   "source": [
    "# Check the final state of the artifact\n",
    "print(artifact2.value)"
   ]
  },
  {
   "cell_type": "markdown",
   "id": "e6773650-b7ee-476d-8d6b-d5f765e475ea",
   "metadata": {},
   "source": [
    "## Listing Artifacts with `catalog()`"
   ]
  },
  {
   "cell_type": "markdown",
   "id": "ec7dfd68-b8d5-4aa8-82ae-5c25f53c6a7a",
   "metadata": {},
   "source": [
    "The `catalog()` method allows you to see the list of all previously saved artifacts, including when they were created."
   ]
  },
  {
   "cell_type": "code",
   "execution_count": 15,
   "id": "abd4ab03-2e9d-4416-bb68-cd2f76894cbc",
   "metadata": {},
   "outputs": [
    {
     "data": {
      "text/plain": [
       "cleaned_data_housing:2022-04-05T17:57:54 created on 2022-04-05 17:57:54.041082\n",
       "gender_diff_avg_height:2022-04-08T11:25:09 created on 2022-04-08 11:25:09.429225\n",
       "gender_diff_avg_height:2022-04-08T11:27:37 created on 2022-04-08 11:27:37.457609\n",
       "gender_diff_avg_height:2022-04-08T11:29:58 created on 2022-04-08 11:29:58.876472\n",
       "gender_diff_avg_weight:2022-04-08T13:33:55 created on 2022-04-08 13:33:55.392070\n",
       "gender_diff_avg_height:2022-04-08T16:19:19 created on 2022-04-08 16:19:19.426913\n",
       "gender_diff_avg_height:2022-04-08T16:41:51 created on 2022-04-08 16:41:51.537567"
      ]
     },
     "execution_count": 15,
     "metadata": {},
     "output_type": "execute_result"
    }
   ],
   "source": [
    "# List all saved artifacts\n",
    "lineapy.catalog()"
   ]
  }
 ],
 "metadata": {
  "kernelspec": {
   "display_name": "Python 3 (ipykernel)",
   "language": "python",
   "name": "python3"
  },
  "language_info": {
   "codemirror_mode": {
    "name": "ipython",
    "version": 3
   },
   "file_extension": ".py",
   "mimetype": "text/x-python",
   "name": "python",
   "nbconvert_exporter": "python",
   "pygments_lexer": "ipython3",
   "version": "3.8.9"
  }
 },
 "nbformat": 4,
 "nbformat_minor": 5
}
