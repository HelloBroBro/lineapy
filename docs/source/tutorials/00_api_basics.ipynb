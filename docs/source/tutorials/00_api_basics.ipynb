{
 "cells": [
  {
   "cell_type": "markdown",
   "id": "df259c51-860e-4a7d-9f3c-95ebf6fbb962",
   "metadata": {},
   "source": [
    "# API Basics"
   ]
  },
  {
   "cell_type": "code",
   "execution_count": null,
   "id": "2a6e6998-b12a-453a-a552-ceeed009a397",
   "metadata": {},
   "outputs": [],
   "source": [
    "# This is a test for rendering in Sphinx"
   ]
  },
  {
   "cell_type": "code",
   "execution_count": null,
   "id": "410e0e61-9135-4067-8fb0-3538757ac9b7",
   "metadata": {},
   "outputs": [],
   "source": []
  },
  {
   "cell_type": "code",
   "execution_count": null,
   "id": "67c0c9cb-af2d-47ff-8310-2f70a1335238",
   "metadata": {},
   "outputs": [],
   "source": []
  },
  {
   "cell_type": "code",
   "execution_count": null,
   "id": "d18140d8-eb2b-4aac-bdb4-89fb151488a0",
   "metadata": {},
   "outputs": [],
   "source": []
  },
  {
   "cell_type": "code",
   "execution_count": null,
   "id": "ab5b2703-f7d2-4b55-a958-edd4342bd9bc",
   "metadata": {},
   "outputs": [],
   "source": []
  },
  {
   "cell_type": "code",
   "execution_count": null,
   "id": "72456027-cb48-4d28-8d0c-1400a3900e7a",
   "metadata": {},
   "outputs": [],
   "source": []
  }
 ],
 "metadata": {
  "kernelspec": {
   "display_name": "Python 3 (ipykernel)",
   "language": "python",
   "name": "python3"
  },
  "language_info": {
   "codemirror_mode": {
    "name": "ipython",
    "version": 3
   },
   "file_extension": ".py",
   "mimetype": "text/x-python",
   "name": "python",
   "nbconvert_exporter": "python",
   "pygments_lexer": "ipython3",
   "version": "3.8.9"
  }
 },
 "nbformat": 4,
 "nbformat_minor": 5
}
