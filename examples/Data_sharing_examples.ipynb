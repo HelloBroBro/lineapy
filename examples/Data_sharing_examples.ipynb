{
 "cells": [
  {
   "cell_type": "markdown",
   "id": "6e6fa19f-2aab-40d0-bf78-2fafdebebd57",
   "metadata": {},
   "source": [
    "# Using Lineapy to Share Data\n",
    "\n",
    "Often times"
   ]
  }
 ],
 "metadata": {
  "kernelspec": {
   "display_name": "Python 3",
   "language": "python",
   "name": "python3"
  },
  "language_info": {
   "codemirror_mode": {
    "name": "ipython",
    "version": 3
   },
   "file_extension": ".py",
   "mimetype": "text/x-python",
   "name": "python",
   "nbconvert_exporter": "python",
   "pygments_lexer": "ipython3",
   "version": "3.9.2"
  }
 },
 "nbformat": 4,
 "nbformat_minor": 5
}
