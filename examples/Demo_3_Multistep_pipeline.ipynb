{
 "cells": [
  {
   "cell_type": "markdown",
   "metadata": {},
   "source": [
    "## Phase: Full ML Pipeline\n",
    "\n",
    "We can combine the preprocessing and modeling steps in one reproducable pipeline. We can then export it to Airflow for Auto-trained ML!"
   ]
  },
  {
   "cell_type": "code",
   "execution_count": 1,
   "metadata": {
    "tags": []
   },
   "outputs": [],
   "source": [
    "# NBVAL_IGNORE_OUTPUT\n",
    "import lineapy"
   ]
  },
  {
   "cell_type": "markdown",
   "metadata": {},
   "source": [
    "#### Linea API allows to easily see previously stored artifacts:"
   ]
  },
  {
   "cell_type": "code",
   "execution_count": 2,
   "metadata": {},
   "outputs": [
    {
     "data": {
      "text/plain": [
       "cleaned_data_housing:2022-04-07T11:03:59 created on 2022-04-07 11:03:59.558632\n",
       "cleaned_data_housing:2022-04-07T11:06:08 created on 2022-04-07 11:06:08.697765\n",
       "linea_model_housing_V2:2022-04-07T11:08:06 created on 2022-04-07 11:08:06.498065\n",
       "linea_model_housing_V2:2022-04-07T11:10:48 created on 2022-04-07 11:10:48.945714\n",
       "housing_data_advanced_features:2022-04-07T11:12:46 created on 2022-04-07 11:12:46.849067\n",
       "housing_data_advanced_features:2022-04-07T11:14:55 created on 2022-04-07 11:14:55.617774\n",
       "cleaned_data_housing:2022-04-07T11:17:13 created on 2022-04-07 11:17:13.809893\n",
       "linea_model_housing:2022-04-07T11:17:41 created on 2022-04-07 11:17:41.231510\n",
       "lot_area_by_neighborhood:2022-04-07T11:18:37 created on 2022-04-07 11:18:37.532364\n",
       "sale_price_by_neighborhood:2022-04-07T11:18:37 created on 2022-04-07 11:18:37.548730\n",
       "sale_price_by_year_neighborhood:2022-04-07T11:18:37 created on 2022-04-07 11:18:37.559762"
      ]
     },
     "execution_count": 2,
     "metadata": {},
     "output_type": "execute_result"
    }
   ],
   "source": [
    "# NBVAL_IGNORE_OUTPUT\n",
    "lineapy.catalog()"
   ]
  },
  {
   "cell_type": "markdown",
   "metadata": {},
   "source": [
    "#### Now we can send both to Airflow a a single pipeline:"
   ]
  },
  {
   "cell_type": "code",
   "execution_count": 3,
   "metadata": {},
   "outputs": [
    {
     "data": {
      "text/plain": [
       "LineaArtifact(execution_id='bf788ce2-3662-41f8-ba52-aab08c96773d', node_id='01dde150-8de2-4fd1-ac59-d97d144c2cc6', session_id='ca694d31-c6eb-46f5-bdd6-5b577694f638', name='cleaned_data_housing', date_created=datetime.datetime(2022, 4, 7, 11, 17, 13, 809893))"
      ]
     },
     "execution_count": 3,
     "metadata": {},
     "output_type": "execute_result"
    }
   ],
   "source": [
    "# NBVAL_IGNORE_OUTPUT\n",
    "preprocessing_art = lineapy.get(\"cleaned_data_housing\")\n",
    "preprocessing_art"
   ]
  },
  {
   "cell_type": "code",
   "execution_count": 4,
   "metadata": {},
   "outputs": [
    {
     "data": {
      "text/plain": [
       "LineaArtifact(execution_id='0a6d711f-27d3-4aca-9736-048f9c86b67e', node_id='110ce67e-c530-4a85-9963-eb5ae13d3529', session_id='fb37782c-a9b4-4103-bc26-222bfcfd488a', name='linea_model_housing', date_created=datetime.datetime(2022, 4, 7, 11, 17, 41, 231510))"
      ]
     },
     "execution_count": 4,
     "metadata": {},
     "output_type": "execute_result"
    }
   ],
   "source": [
    "# NBVAL_IGNORE_OUTPUT\n",
    "modeling_art = lineapy.get(\"linea_model_housing\")\n",
    "modeling_art"
   ]
  },
  {
   "cell_type": "code",
   "execution_count": 5,
   "metadata": {},
   "outputs": [
    {
     "data": {
      "text/html": [
       "<pre style=\"white-space:pre;overflow-x:auto;line-height:normal;font-family:Menlo,'DejaVu Sans Mono',consolas,'Courier New',monospace\">Pipeline source generated in the directory: <span style=\"color: #800080; text-decoration-color: #800080\">/Users/simba/airflow/</span><span style=\"color: #ff00ff; text-decoration-color: #ff00ff\">dags</span>                        \n",
       "</pre>\n"
      ],
      "text/plain": [
       "Pipeline source generated in the directory: \u001b[35m/Users/simba/airflow/\u001b[0m\u001b[95mdags\u001b[0m                        \n"
      ]
     },
     "metadata": {},
     "output_type": "display_data"
    },
    {
     "data": {
      "text/html": [
       "<pre style=\"white-space:pre;overflow-x:auto;line-height:normal;font-family:Menlo,'DejaVu Sans Mono',consolas,'Courier New',monospace\">Generated python module data_housing_pipeline.py                                             \n",
       "</pre>\n"
      ],
      "text/plain": [
       "Generated python module data_housing_pipeline.py                                             \n"
      ]
     },
     "metadata": {},
     "output_type": "display_data"
    },
    {
     "data": {
      "text/html": [
       "<pre style=\"white-space:pre;overflow-x:auto;line-height:normal;font-family:Menlo,'DejaVu Sans Mono',consolas,'Courier New',monospace\">Added Airflow DAG named data_housing_pipeline_dag. Start a run from the Airflow UI or CLI.   \n",
       "</pre>\n"
      ],
      "text/plain": [
       "Added Airflow DAG named data_housing_pipeline_dag. Start a run from the Airflow UI or CLI.   \n"
      ]
     },
     "metadata": {},
     "output_type": "display_data"
    },
    {
     "data": {
      "text/html": [
       "<pre style=\"white-space:pre;overflow-x:auto;line-height:normal;font-family:Menlo,'DejaVu Sans Mono',consolas,'Courier New',monospace\">Generated Dockerfile data_housing_pipeline_Dockerfile                                        \n",
       "</pre>\n"
      ],
      "text/plain": [
       "Generated Dockerfile data_housing_pipeline_Dockerfile                                        \n"
      ]
     },
     "metadata": {},
     "output_type": "display_data"
    },
    {
     "data": {
      "text/html": [
       "<pre style=\"white-space:pre;overflow-x:auto;line-height:normal;font-family:Menlo,'DejaVu Sans Mono',consolas,'Courier New',monospace\">Generated requirements file data_housing_pipeline_requirements.txt                           \n",
       "</pre>\n"
      ],
      "text/plain": [
       "Generated requirements file data_housing_pipeline_requirements.txt                           \n"
      ]
     },
     "metadata": {},
     "output_type": "display_data"
    },
    {
     "data": {
      "text/plain": [
       "PosixPath('/Users/simba/airflow/dags')"
      ]
     },
     "execution_count": 5,
     "metadata": {},
     "output_type": "execute_result"
    }
   ],
   "source": [
    "# NBVAL_SKIP\n",
    "import os\n",
    "lineapy.to_pipeline(\n",
    "    [preprocessing_art.name, modeling_art.name], \n",
    "    framework = 'AIRFLOW',\n",
    "    pipeline_name = \"data_housing_pipeline\",\n",
    "    dependencies = {'data_housing_pipeline_linea_model_housing':{'data_housing_pipeline_cleaned_data_housing'}},\n",
    "    output_dir = os.environ.get(\"AIRFLOW_HOME\",\"~/airflow\")+\"/dags\")\n"
   ]
  },
  {
   "cell_type": "code",
   "execution_count": null,
   "metadata": {},
   "outputs": [],
   "source": []
  }
 ],
 "metadata": {
  "kernelspec": {
   "display_name": "Python 3 (ipykernel)",
   "language": "python",
   "name": "python3"
  },
  "language_info": {
   "codemirror_mode": {
    "name": "ipython",
    "version": 3
   },
   "file_extension": ".py",
   "mimetype": "text/x-python",
   "name": "python",
   "nbconvert_exporter": "python",
   "pygments_lexer": "ipython3",
   "version": "3.7.11"
  }
 },
 "nbformat": 4,
 "nbformat_minor": 4
}
