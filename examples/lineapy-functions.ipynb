{
 "cells": [
  {
   "cell_type": "markdown",
   "id": "834cadc9",
   "metadata": {},
   "source": [
    "# Lineapy Functions\n",
    "\n",
    "In this notebook, we'll cover the basic functions supported by the lineapy library. We'll use a dataset that contains a list of real estate properties and their respective features to show simple examples for each function."
   ]
  },
  {
   "cell_type": "code",
   "execution_count": 1,
   "id": "ec36a1b8",
   "metadata": {},
   "outputs": [
    {
     "data": {
      "text/html": [
       "<div>\n",
       "<style scoped>\n",
       "    .dataframe tbody tr th:only-of-type {\n",
       "        vertical-align: middle;\n",
       "    }\n",
       "\n",
       "    .dataframe tbody tr th {\n",
       "        vertical-align: top;\n",
       "    }\n",
       "\n",
       "    .dataframe thead th {\n",
       "        text-align: right;\n",
       "    }\n",
       "</style>\n",
       "<table border=\"1\" class=\"dataframe\">\n",
       "  <thead>\n",
       "    <tr style=\"text-align: right;\">\n",
       "      <th></th>\n",
       "      <th>Order</th>\n",
       "      <th>PID</th>\n",
       "      <th>MS_SubClass</th>\n",
       "      <th>MS_Zoning</th>\n",
       "      <th>Lot_Frontage</th>\n",
       "      <th>Lot_Area</th>\n",
       "      <th>Street</th>\n",
       "      <th>Alley</th>\n",
       "      <th>Lot_Shape</th>\n",
       "      <th>Land_Contour</th>\n",
       "      <th>...</th>\n",
       "      <th>Pool_QC</th>\n",
       "      <th>Fence</th>\n",
       "      <th>Misc_Feature</th>\n",
       "      <th>Misc_Val</th>\n",
       "      <th>Mo_Sold</th>\n",
       "      <th>Yr_Sold</th>\n",
       "      <th>Sale_Type</th>\n",
       "      <th>Sale_Condition</th>\n",
       "      <th>SalePrice</th>\n",
       "      <th>TotalBathrooms</th>\n",
       "    </tr>\n",
       "  </thead>\n",
       "  <tbody>\n",
       "    <tr>\n",
       "      <th>0</th>\n",
       "      <td>1</td>\n",
       "      <td>526301100</td>\n",
       "      <td>20</td>\n",
       "      <td>RL</td>\n",
       "      <td>141.0</td>\n",
       "      <td>31770</td>\n",
       "      <td>Pave</td>\n",
       "      <td>NaN</td>\n",
       "      <td>IR1</td>\n",
       "      <td>Lvl</td>\n",
       "      <td>...</td>\n",
       "      <td>NaN</td>\n",
       "      <td>NaN</td>\n",
       "      <td>NaN</td>\n",
       "      <td>0</td>\n",
       "      <td>5</td>\n",
       "      <td>2010</td>\n",
       "      <td>WD</td>\n",
       "      <td>Normal</td>\n",
       "      <td>204900</td>\n",
       "      <td>2.0</td>\n",
       "    </tr>\n",
       "    <tr>\n",
       "      <th>1</th>\n",
       "      <td>2</td>\n",
       "      <td>526350040</td>\n",
       "      <td>20</td>\n",
       "      <td>RH</td>\n",
       "      <td>80.0</td>\n",
       "      <td>11622</td>\n",
       "      <td>Pave</td>\n",
       "      <td>NaN</td>\n",
       "      <td>Reg</td>\n",
       "      <td>Lvl</td>\n",
       "      <td>...</td>\n",
       "      <td>NaN</td>\n",
       "      <td>MnPrv</td>\n",
       "      <td>NaN</td>\n",
       "      <td>0</td>\n",
       "      <td>6</td>\n",
       "      <td>2010</td>\n",
       "      <td>WD</td>\n",
       "      <td>Normal</td>\n",
       "      <td>95300</td>\n",
       "      <td>1.0</td>\n",
       "    </tr>\n",
       "    <tr>\n",
       "      <th>2</th>\n",
       "      <td>3</td>\n",
       "      <td>526351010</td>\n",
       "      <td>20</td>\n",
       "      <td>RL</td>\n",
       "      <td>81.0</td>\n",
       "      <td>14267</td>\n",
       "      <td>Pave</td>\n",
       "      <td>NaN</td>\n",
       "      <td>IR1</td>\n",
       "      <td>Lvl</td>\n",
       "      <td>...</td>\n",
       "      <td>NaN</td>\n",
       "      <td>NaN</td>\n",
       "      <td>Gar2</td>\n",
       "      <td>12500</td>\n",
       "      <td>6</td>\n",
       "      <td>2010</td>\n",
       "      <td>WD</td>\n",
       "      <td>Normal</td>\n",
       "      <td>181900</td>\n",
       "      <td>1.5</td>\n",
       "    </tr>\n",
       "    <tr>\n",
       "      <th>3</th>\n",
       "      <td>4</td>\n",
       "      <td>526353030</td>\n",
       "      <td>20</td>\n",
       "      <td>RL</td>\n",
       "      <td>93.0</td>\n",
       "      <td>11160</td>\n",
       "      <td>Pave</td>\n",
       "      <td>NaN</td>\n",
       "      <td>Reg</td>\n",
       "      <td>Lvl</td>\n",
       "      <td>...</td>\n",
       "      <td>NaN</td>\n",
       "      <td>NaN</td>\n",
       "      <td>NaN</td>\n",
       "      <td>0</td>\n",
       "      <td>4</td>\n",
       "      <td>2010</td>\n",
       "      <td>WD</td>\n",
       "      <td>Normal</td>\n",
       "      <td>254100</td>\n",
       "      <td>3.5</td>\n",
       "    </tr>\n",
       "    <tr>\n",
       "      <th>4</th>\n",
       "      <td>5</td>\n",
       "      <td>527105010</td>\n",
       "      <td>60</td>\n",
       "      <td>RL</td>\n",
       "      <td>74.0</td>\n",
       "      <td>13830</td>\n",
       "      <td>Pave</td>\n",
       "      <td>NaN</td>\n",
       "      <td>IR1</td>\n",
       "      <td>Lvl</td>\n",
       "      <td>...</td>\n",
       "      <td>NaN</td>\n",
       "      <td>MnPrv</td>\n",
       "      <td>NaN</td>\n",
       "      <td>0</td>\n",
       "      <td>3</td>\n",
       "      <td>2010</td>\n",
       "      <td>WD</td>\n",
       "      <td>Normal</td>\n",
       "      <td>199700</td>\n",
       "      <td>2.5</td>\n",
       "    </tr>\n",
       "  </tbody>\n",
       "</table>\n",
       "<p>5 rows × 83 columns</p>\n",
       "</div>"
      ],
      "text/plain": [
       "   Order        PID  MS_SubClass MS_Zoning  Lot_Frontage  Lot_Area Street  \\\n",
       "0      1  526301100           20        RL         141.0     31770   Pave   \n",
       "1      2  526350040           20        RH          80.0     11622   Pave   \n",
       "2      3  526351010           20        RL          81.0     14267   Pave   \n",
       "3      4  526353030           20        RL          93.0     11160   Pave   \n",
       "4      5  527105010           60        RL          74.0     13830   Pave   \n",
       "\n",
       "  Alley Lot_Shape Land_Contour  ... Pool_QC  Fence Misc_Feature Misc_Val  \\\n",
       "0   NaN       IR1          Lvl  ...     NaN    NaN          NaN        0   \n",
       "1   NaN       Reg          Lvl  ...     NaN  MnPrv          NaN        0   \n",
       "2   NaN       IR1          Lvl  ...     NaN    NaN         Gar2    12500   \n",
       "3   NaN       Reg          Lvl  ...     NaN    NaN          NaN        0   \n",
       "4   NaN       IR1          Lvl  ...     NaN  MnPrv          NaN        0   \n",
       "\n",
       "  Mo_Sold Yr_Sold Sale_Type Sale_Condition  SalePrice  TotalBathrooms  \n",
       "0       5    2010        WD         Normal     204900             2.0  \n",
       "1       6    2010        WD         Normal      95300             1.0  \n",
       "2       6    2010        WD         Normal     181900             1.5  \n",
       "3       4    2010        WD         Normal     254100             3.5  \n",
       "4       3    2010        WD         Normal     199700             2.5  \n",
       "\n",
       "[5 rows x 83 columns]"
      ]
     },
     "execution_count": 1,
     "metadata": {},
     "output_type": "execute_result"
    }
   ],
   "source": [
    "# Let's start by importing the dataset:\n",
    "import lineapy\n",
    "import pandas as pd\n",
    "\n",
    "assets = pd.read_csv(\"../tests/ames_train_cleaned.csv\")\n",
    "assets.head()"
   ]
  },
  {
   "cell_type": "code",
   "execution_count": 2,
   "id": "a72d56b6",
   "metadata": {},
   "outputs": [
    {
     "data": {
      "text/html": [
       "<div>\n",
       "<style scoped>\n",
       "    .dataframe tbody tr th:only-of-type {\n",
       "        vertical-align: middle;\n",
       "    }\n",
       "\n",
       "    .dataframe tbody tr th {\n",
       "        vertical-align: top;\n",
       "    }\n",
       "\n",
       "    .dataframe thead th {\n",
       "        text-align: right;\n",
       "    }\n",
       "</style>\n",
       "<table border=\"1\" class=\"dataframe\">\n",
       "  <thead>\n",
       "    <tr style=\"text-align: right;\">\n",
       "      <th></th>\n",
       "      <th>Lot_Area</th>\n",
       "    </tr>\n",
       "    <tr>\n",
       "      <th>Neighborhood</th>\n",
       "      <th></th>\n",
       "    </tr>\n",
       "  </thead>\n",
       "  <tbody>\n",
       "    <tr>\n",
       "      <th>Blmngtn</th>\n",
       "      <td>3411.913043</td>\n",
       "    </tr>\n",
       "    <tr>\n",
       "      <th>Blueste</th>\n",
       "      <td>2264.000000</td>\n",
       "    </tr>\n",
       "    <tr>\n",
       "      <th>BrDale</th>\n",
       "      <td>1846.100000</td>\n",
       "    </tr>\n",
       "    <tr>\n",
       "      <th>BrkSide</th>\n",
       "      <td>6942.391892</td>\n",
       "    </tr>\n",
       "    <tr>\n",
       "      <th>ClearCr</th>\n",
       "      <td>23686.424242</td>\n",
       "    </tr>\n",
       "  </tbody>\n",
       "</table>\n",
       "</div>"
      ],
      "text/plain": [
       "                  Lot_Area\n",
       "Neighborhood              \n",
       "Blmngtn        3411.913043\n",
       "Blueste        2264.000000\n",
       "BrDale         1846.100000\n",
       "BrkSide        6942.391892\n",
       "ClearCr       23686.424242"
      ]
     },
     "execution_count": 2,
     "metadata": {},
     "output_type": "execute_result"
    }
   ],
   "source": [
    "# Now, let's generate a few variables that we'll be using throughout this tutorial\n",
    "\n",
    "# Average lot area by neighborhood\n",
    "lot_area_by_neighborhood = assets[[\"Neighborhood\", \"Lot_Area\"]].groupby(\"Neighborhood\").mean()\n",
    "lot_area_by_neighborhood.head()"
   ]
  },
  {
   "cell_type": "code",
   "execution_count": 3,
   "id": "7b6d9225",
   "metadata": {},
   "outputs": [
    {
     "data": {
      "text/html": [
       "<div>\n",
       "<style scoped>\n",
       "    .dataframe tbody tr th:only-of-type {\n",
       "        vertical-align: middle;\n",
       "    }\n",
       "\n",
       "    .dataframe tbody tr th {\n",
       "        vertical-align: top;\n",
       "    }\n",
       "\n",
       "    .dataframe thead th {\n",
       "        text-align: right;\n",
       "    }\n",
       "</style>\n",
       "<table border=\"1\" class=\"dataframe\">\n",
       "  <thead>\n",
       "    <tr style=\"text-align: right;\">\n",
       "      <th></th>\n",
       "      <th>SalePrice</th>\n",
       "    </tr>\n",
       "    <tr>\n",
       "      <th>Neighborhood</th>\n",
       "      <th></th>\n",
       "    </tr>\n",
       "  </thead>\n",
       "  <tbody>\n",
       "    <tr>\n",
       "      <th>Blmngtn</th>\n",
       "      <td>195889.000000</td>\n",
       "    </tr>\n",
       "    <tr>\n",
       "      <th>Blueste</th>\n",
       "      <td>126600.000000</td>\n",
       "    </tr>\n",
       "    <tr>\n",
       "      <th>BrDale</th>\n",
       "      <td>104350.000000</td>\n",
       "    </tr>\n",
       "    <tr>\n",
       "      <th>BrkSide</th>\n",
       "      <td>124309.797297</td>\n",
       "    </tr>\n",
       "    <tr>\n",
       "      <th>ClearCr</th>\n",
       "      <td>198676.727273</td>\n",
       "    </tr>\n",
       "  </tbody>\n",
       "</table>\n",
       "</div>"
      ],
      "text/plain": [
       "                  SalePrice\n",
       "Neighborhood               \n",
       "Blmngtn       195889.000000\n",
       "Blueste       126600.000000\n",
       "BrDale        104350.000000\n",
       "BrkSide       124309.797297\n",
       "ClearCr       198676.727273"
      ]
     },
     "execution_count": 3,
     "metadata": {},
     "output_type": "execute_result"
    }
   ],
   "source": [
    "# Average sale price by neighborhood\n",
    "sale_price_by_neighborhood = assets[[\"Neighborhood\", \"SalePrice\"]].groupby(\"Neighborhood\").mean()\n",
    "sale_price_by_neighborhood.head()"
   ]
  },
  {
   "cell_type": "code",
   "execution_count": 4,
   "id": "d3a87c4e",
   "metadata": {},
   "outputs": [
    {
     "data": {
      "text/html": [
       "<div>\n",
       "<style scoped>\n",
       "    .dataframe tbody tr th:only-of-type {\n",
       "        vertical-align: middle;\n",
       "    }\n",
       "\n",
       "    .dataframe tbody tr th {\n",
       "        vertical-align: top;\n",
       "    }\n",
       "\n",
       "    .dataframe thead th {\n",
       "        text-align: right;\n",
       "    }\n",
       "</style>\n",
       "<table border=\"1\" class=\"dataframe\">\n",
       "  <thead>\n",
       "    <tr style=\"text-align: right;\">\n",
       "      <th></th>\n",
       "      <th></th>\n",
       "      <th>SalePrice</th>\n",
       "    </tr>\n",
       "    <tr>\n",
       "      <th>Neighborhood</th>\n",
       "      <th>Yr_Sold</th>\n",
       "      <th></th>\n",
       "    </tr>\n",
       "  </thead>\n",
       "  <tbody>\n",
       "    <tr>\n",
       "      <th rowspan=\"5\" valign=\"top\">Blmngtn</th>\n",
       "      <th>2006</th>\n",
       "      <td>212909.888889</td>\n",
       "    </tr>\n",
       "    <tr>\n",
       "      <th>2007</th>\n",
       "      <td>191246.500000</td>\n",
       "    </tr>\n",
       "    <tr>\n",
       "      <th>2008</th>\n",
       "      <td>191890.666667</td>\n",
       "    </tr>\n",
       "    <tr>\n",
       "      <th>2009</th>\n",
       "      <td>179360.000000</td>\n",
       "    </tr>\n",
       "    <tr>\n",
       "      <th>2010</th>\n",
       "      <td>175900.000000</td>\n",
       "    </tr>\n",
       "  </tbody>\n",
       "</table>\n",
       "</div>"
      ],
      "text/plain": [
       "                          SalePrice\n",
       "Neighborhood Yr_Sold               \n",
       "Blmngtn      2006     212909.888889\n",
       "             2007     191246.500000\n",
       "             2008     191890.666667\n",
       "             2009     179360.000000\n",
       "             2010     175900.000000"
      ]
     },
     "execution_count": 4,
     "metadata": {},
     "output_type": "execute_result"
    }
   ],
   "source": [
    "# NBVAL_IGNORE_OUTPUT\n",
    "\n",
    "# Average sale price by neighborhood and year sold\n",
    "sale_price_by_year_neighborhood = assets[[\"Neighborhood\", \"Yr_Sold\", \"SalePrice\"]].groupby([\"Neighborhood\", \"Yr_Sold\"]).mean()\n",
    "sale_price_by_year_neighborhood.head()"
   ]
  },
  {
   "cell_type": "markdown",
   "id": "e45a0500",
   "metadata": {},
   "source": [
    "## Save()\n",
    "\n",
    "The `save()` function allows you to save a variable's value and history as a data type called a `LineaArtifact`. The function requires two arguments: the variable to save and the string name to save it as. It returns the saved artifact."
   ]
  },
  {
   "cell_type": "code",
   "execution_count": 5,
   "id": "64bff82f",
   "metadata": {},
   "outputs": [
    {
     "name": "stdout",
     "output_type": "stream",
     "text": [
      "import pandas as pd\n",
      "assets = pd.read_csv(\"../tests/ames_train_cleaned.csv\")\n",
      "sale_price_by_year_neighborhood = assets[[\"Neighborhood\", \"Yr_Sold\", \"SalePrice\"]].groupby([\"Neighborhood\", \"Yr_Sold\"]).mean()\n",
      "\n"
     ]
    }
   ],
   "source": [
    "# Let's save the variables we created above\n",
    "lineapy.save(lot_area_by_neighborhood, \"lot_area_by_neighborhood\")\n",
    "lineapy.save(sale_price_by_neighborhood, \"sale_price_by_neighborhood\")\n",
    "\n",
    "# We can also use the output from the function to access the artifact and view the saved variable's history\n",
    "sale_price_data = lineapy.save(sale_price_by_year_neighborhood, \"sale_price_by_year_neighborhood\")\n",
    "print(sale_price_data.code)"
   ]
  },
  {
   "cell_type": "markdown",
   "id": "9f24e00b",
   "metadata": {},
   "source": [
    "## Get()\n",
    "\n",
    "The `get()` function allows you to access a saved artifact. This function takes the string name of the artifact as its only argument and returns the saved artifact."
   ]
  },
  {
   "cell_type": "code",
   "execution_count": 6,
   "id": "ed4ad06b",
   "metadata": {},
   "outputs": [
    {
     "name": "stdout",
     "output_type": "stream",
     "text": [
      "import pandas as pd\n",
      "assets = pd.read_csv(\"../tests/ames_train_cleaned.csv\")\n",
      "sale_price_by_year_neighborhood = assets[[\"Neighborhood\", \"Yr_Sold\", \"SalePrice\"]].groupby([\"Neighborhood\", \"Yr_Sold\"]).mean()\n",
      "\n"
     ]
    }
   ],
   "source": [
    "# NBVAL_IGNORE_OUTPUT\n",
    "\n",
    "# Let's retrieve the artifacts we saved above\n",
    "lot_area_by_neighborhood = lineapy.get(\"lot_area_by_neighborhood\")\n",
    "sale_price_by_neighborhood = lineapy.get(\"sale_price_by_neighborhood\")\n",
    "sale_price_by_year_neighborhood = lineapy.get(\"sale_price_by_year_neighborhood\")\n",
    "\n",
    "# Again, we can use the output to view the saved variable's history\n",
    "print(sale_price_by_year_neighborhood.code)"
   ]
  },
  {
   "cell_type": "markdown",
   "id": "b83d21c7",
   "metadata": {},
   "source": [
    "## To_airflow()\n",
    "\n",
    "The `to_airflow()` function is used to add a saved artifact to Airflow DAG so that the artifact can be accessed from the Airflow UI or CLI. It also produces a Python module containing the steps to generate the variable, a Dockerfile for producing the variable, and a text file containing a list of dependencies. The function takes a list of artifact names and the string name for the DAG as its arguments."
   ]
  },
  {
   "cell_type": "code",
   "execution_count": 7,
   "id": "22b31f54",
   "metadata": {},
   "outputs": [
    {
     "data": {
      "text/html": [
       "<pre style=\"white-space:pre;overflow-x:auto;line-height:normal;font-family:Menlo,'DejaVu Sans Mono',consolas,'Courier New',monospace\">Using output directory: <span style=\"color: #800080; text-decoration-color: #800080\">/Users/simba/Projects/lineapy/</span><span style=\"color: #ff00ff; text-decoration-color: #ff00ff\">examples</span>                               \n",
       "</pre>\n"
      ],
      "text/plain": [
       "Using output directory: \u001b[35m/Users/simba/Projects/lineapy/\u001b[0m\u001b[95mexamples\u001b[0m                               \n"
      ]
     },
     "metadata": {},
     "output_type": "display_data"
    },
    {
     "data": {
      "text/html": [
       "<pre style=\"white-space:pre;overflow-x:auto;line-height:normal;font-family:Menlo,'DejaVu Sans Mono',consolas,'Courier New',monospace\">Generated python module lot_area_by_neighborhood.py                                          \n",
       "</pre>\n"
      ],
      "text/plain": [
       "Generated python module lot_area_by_neighborhood.py                                          \n"
      ]
     },
     "metadata": {},
     "output_type": "display_data"
    },
    {
     "data": {
      "text/html": [
       "<pre style=\"white-space:pre;overflow-x:auto;line-height:normal;font-family:Menlo,'DejaVu Sans Mono',consolas,'Courier New',monospace\">Added Airflow DAG named lot_area_by_neighborhood_dag. Start a run from the Airflow UI or CLI.\n",
       "</pre>\n"
      ],
      "text/plain": [
       "Added Airflow DAG named lot_area_by_neighborhood_dag. Start a run from the Airflow UI or CLI.\n"
      ]
     },
     "metadata": {},
     "output_type": "display_data"
    },
    {
     "data": {
      "text/html": [
       "<pre style=\"white-space:pre;overflow-x:auto;line-height:normal;font-family:Menlo,'DejaVu Sans Mono',consolas,'Courier New',monospace\">Generated Dockerfile lot_area_by_neighborhood_Dockerfile                                     \n",
       "</pre>\n"
      ],
      "text/plain": [
       "Generated Dockerfile lot_area_by_neighborhood_Dockerfile                                     \n"
      ]
     },
     "metadata": {},
     "output_type": "display_data"
    },
    {
     "data": {
      "text/html": [
       "<pre style=\"white-space:pre;overflow-x:auto;line-height:normal;font-family:Menlo,'DejaVu Sans Mono',consolas,'Courier New',monospace\">Generated requirements file lot_area_by_neighborhood_requirements.txt                        \n",
       "</pre>\n"
      ],
      "text/plain": [
       "Generated requirements file lot_area_by_neighborhood_requirements.txt                        \n"
      ]
     },
     "metadata": {},
     "output_type": "display_data"
    }
   ],
   "source": [
    "# NBVAL_IGNORE_OUTPUT\n",
    "lineapy.to_airflow([lot_area_by_neighborhood.name]);"
   ]
  },
  {
   "cell_type": "code",
   "execution_count": 8,
   "id": "ac5c2168",
   "metadata": {},
   "outputs": [
    {
     "data": {
      "text/html": [
       "<pre style=\"white-space:pre;overflow-x:auto;line-height:normal;font-family:Menlo,'DejaVu Sans Mono',consolas,'Courier New',monospace\">Using output directory: <span style=\"color: #800080; text-decoration-color: #800080\">/Users/simba/Projects/lineapy/</span><span style=\"color: #ff00ff; text-decoration-color: #ff00ff\">examples</span>                               \n",
       "</pre>\n"
      ],
      "text/plain": [
       "Using output directory: \u001b[35m/Users/simba/Projects/lineapy/\u001b[0m\u001b[95mexamples\u001b[0m                               \n"
      ]
     },
     "metadata": {},
     "output_type": "display_data"
    },
    {
     "data": {
      "text/html": [
       "<pre style=\"white-space:pre;overflow-x:auto;line-height:normal;font-family:Menlo,'DejaVu Sans Mono',consolas,'Courier New',monospace\">Generated python module my_dag_name.py                                                       \n",
       "</pre>\n"
      ],
      "text/plain": [
       "Generated python module my_dag_name.py                                                       \n"
      ]
     },
     "metadata": {},
     "output_type": "display_data"
    },
    {
     "data": {
      "text/html": [
       "<pre style=\"white-space:pre;overflow-x:auto;line-height:normal;font-family:Menlo,'DejaVu Sans Mono',consolas,'Courier New',monospace\">Added Airflow DAG named my_dag_name_dag. Start a run from the Airflow UI or CLI.             \n",
       "</pre>\n"
      ],
      "text/plain": [
       "Added Airflow DAG named my_dag_name_dag. Start a run from the Airflow UI or CLI.             \n"
      ]
     },
     "metadata": {},
     "output_type": "display_data"
    },
    {
     "data": {
      "text/html": [
       "<pre style=\"white-space:pre;overflow-x:auto;line-height:normal;font-family:Menlo,'DejaVu Sans Mono',consolas,'Courier New',monospace\">Generated Dockerfile my_dag_name_Dockerfile                                                  \n",
       "</pre>\n"
      ],
      "text/plain": [
       "Generated Dockerfile my_dag_name_Dockerfile                                                  \n"
      ]
     },
     "metadata": {},
     "output_type": "display_data"
    },
    {
     "data": {
      "text/html": [
       "<pre style=\"white-space:pre;overflow-x:auto;line-height:normal;font-family:Menlo,'DejaVu Sans Mono',consolas,'Courier New',monospace\">Generated requirements file my_dag_name_requirements.txt                                     \n",
       "</pre>\n"
      ],
      "text/plain": [
       "Generated requirements file my_dag_name_requirements.txt                                     \n"
      ]
     },
     "metadata": {},
     "output_type": "display_data"
    }
   ],
   "source": [
    "# NBVAL_IGNORE_OUTPUT\n",
    "lineapy.to_airflow([sale_price_by_neighborhood.name], \"my_dag_name\");"
   ]
  },
  {
   "cell_type": "code",
   "execution_count": 9,
   "id": "91965ab7",
   "metadata": {},
   "outputs": [
    {
     "data": {
      "text/html": [
       "<pre style=\"white-space:pre;overflow-x:auto;line-height:normal;font-family:Menlo,'DejaVu Sans Mono',consolas,'Courier New',monospace\">Using output directory: <span style=\"color: #800080; text-decoration-color: #800080\">/Users/simba/airflow/</span><span style=\"color: #ff00ff; text-decoration-color: #ff00ff\">dags</span>                                            \n",
       "</pre>\n"
      ],
      "text/plain": [
       "Using output directory: \u001b[35m/Users/simba/airflow/\u001b[0m\u001b[95mdags\u001b[0m                                            \n"
      ]
     },
     "metadata": {},
     "output_type": "display_data"
    },
    {
     "data": {
      "text/html": [
       "<pre style=\"white-space:pre;overflow-x:auto;line-height:normal;font-family:Menlo,'DejaVu Sans Mono',consolas,'Courier New',monospace\">Generated python module sale_price_by_year_neighborhood.py                                   \n",
       "</pre>\n"
      ],
      "text/plain": [
       "Generated python module sale_price_by_year_neighborhood.py                                   \n"
      ]
     },
     "metadata": {},
     "output_type": "display_data"
    },
    {
     "data": {
      "text/html": [
       "<pre style=\"white-space:pre;overflow-x:auto;line-height:normal;font-family:Menlo,'DejaVu Sans Mono',consolas,'Courier New',monospace\">Added Airflow DAG named sale_price_by_year_neighborhood_dag. Start a run from the Airflow UI \n",
       "or CLI.                                                                                      \n",
       "</pre>\n"
      ],
      "text/plain": [
       "Added Airflow DAG named sale_price_by_year_neighborhood_dag. Start a run from the Airflow UI \n",
       "or CLI.                                                                                      \n"
      ]
     },
     "metadata": {},
     "output_type": "display_data"
    },
    {
     "data": {
      "text/html": [
       "<pre style=\"white-space:pre;overflow-x:auto;line-height:normal;font-family:Menlo,'DejaVu Sans Mono',consolas,'Courier New',monospace\">Generated Dockerfile sale_price_by_year_neighborhood_Dockerfile                              \n",
       "</pre>\n"
      ],
      "text/plain": [
       "Generated Dockerfile sale_price_by_year_neighborhood_Dockerfile                              \n"
      ]
     },
     "metadata": {},
     "output_type": "display_data"
    },
    {
     "data": {
      "text/html": [
       "<pre style=\"white-space:pre;overflow-x:auto;line-height:normal;font-family:Menlo,'DejaVu Sans Mono',consolas,'Courier New',monospace\">Generated requirements file sale_price_by_year_neighborhood_requirements.txt                 \n",
       "</pre>\n"
      ],
      "text/plain": [
       "Generated requirements file sale_price_by_year_neighborhood_requirements.txt                 \n"
      ]
     },
     "metadata": {},
     "output_type": "display_data"
    }
   ],
   "source": [
    "# NBVAL_IGNORE_OUTPUT\n",
    "lineapy.to_airflow([sale_price_by_year_neighborhood.name], output_dir=\"/Users/simba/airflow/dags\");"
   ]
  },
  {
   "cell_type": "markdown",
   "id": "91462c16",
   "metadata": {},
   "source": [
    "## Catalog()\n",
    "\n",
    "The `catalog()` function allows you to see a list of all previously saved artifacts, including when they were created."
   ]
  },
  {
   "cell_type": "code",
   "execution_count": 10,
   "id": "5778e7e0",
   "metadata": {},
   "outputs": [
    {
     "data": {
      "text/plain": [
       "a:2022-04-06T17:12:14 created on 2022-04-06 17:12:14.696707\n",
       "lot_area_by_neighborhood:2022-04-06T17:15:01 created on 2022-04-06 17:15:01.742637\n",
       "sale_price_by_neighborhood:2022-04-06T17:15:01 created on 2022-04-06 17:15:01.754730\n",
       "sale_price_by_year_neighborhood:2022-04-06T17:15:01 created on 2022-04-06 17:15:01.763993"
      ]
     },
     "execution_count": 10,
     "metadata": {},
     "output_type": "execute_result"
    }
   ],
   "source": [
    "# NBVAL_IGNORE_OUTPUT\n",
    "\n",
    "# Here, we'll list the artifacts we created above\n",
    "lineapy.catalog()"
   ]
  },
  {
   "cell_type": "markdown",
   "id": "4ed9179b",
   "metadata": {},
   "source": [
    "With these functions, you're ready to get started with the lineapy library!"
   ]
  }
 ],
 "metadata": {
  "kernelspec": {
   "display_name": "Python 3 (ipykernel)",
   "language": "python",
   "name": "python3"
  },
  "language_info": {
   "codemirror_mode": {
    "name": "ipython",
    "version": 3
   },
   "file_extension": ".py",
   "mimetype": "text/x-python",
   "name": "python",
   "nbconvert_exporter": "python",
   "pygments_lexer": "ipython3",
   "version": "3.7.11"
  }
 },
 "nbformat": 4,
 "nbformat_minor": 5
}
