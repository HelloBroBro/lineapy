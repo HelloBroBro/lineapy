{
 "cells": [
  {
   "cell_type": "markdown",
   "id": "52d1bcc3",
   "metadata": {},
   "source": [
    "# Refactoring Code with Artifacts"
   ]
  },
  {
   "cell_type": "markdown",
   "id": "59fc3ea7",
   "metadata": {},
   "source": [
    "LineaPy’s artifacts store the complete development history in intelligent graph representation, and this enables automatic transformation of the development code.\n",
    "\n",
    "An important application of such transformation is “program slicing” where the development code is “sliced” to only retain minimal necessary operations generating the final state/object of interest (e.g., trained model).\n",
    "\n",
    "Traditionally, a major bottleneck in any data science work is refactoring messy development code into clean, production-ready code, so LineaPy’s support for automatic code clean-up is likely to boost the productivity and impact of data science teams.\n",
    "\n",
    "In this tutorial, we will walk through an example that illustrates how this can be done."
   ]
  },
  {
   "cell_type": "markdown",
   "id": "61943eaf",
   "metadata": {},
   "source": [
    "<div class=\"alert alert-info\">\n",
    "\n",
    "You can ignore `# NBVAL_*` comments in certain cell blocks. They are for passing unit tests only, which we do to make sure the examples are always functional as we update the codebase.\n",
    "\n",
    "</div>"
   ]
  },
  {
   "cell_type": "code",
   "execution_count": 1,
   "id": "1a67196a",
   "metadata": {},
   "outputs": [],
   "source": [
    "# NBVAL_IGNORE_OUTPUT\n",
    "\n",
    "import os\n",
    "import lineapy\n",
    "import pandas as pd\n",
    "import matplotlib.pyplot as plt\n",
    "from sklearn.linear_model import LinearRegression"
   ]
  },
  {
   "cell_type": "markdown",
   "id": "ce6a4753",
   "metadata": {},
   "source": [
    "As part of a public health study, we were given a data set to explore. Let's see what it contains."
   ]
  },
  {
   "cell_type": "code",
   "execution_count": 2,
   "id": "e2321f16",
   "metadata": {},
   "outputs": [],
   "source": [
    "# Load data\n",
    "df = pd.read_csv(\"data/biometrics.csv\")"
   ]
  },
  {
   "cell_type": "code",
   "execution_count": 3,
   "id": "57d797dc",
   "metadata": {},
   "outputs": [
    {
     "data": {
      "text/html": [
       "<div>\n",
       "<style scoped>\n",
       "    .dataframe tbody tr th:only-of-type {\n",
       "        vertical-align: middle;\n",
       "    }\n",
       "\n",
       "    .dataframe tbody tr th {\n",
       "        vertical-align: top;\n",
       "    }\n",
       "\n",
       "    .dataframe thead th {\n",
       "        text-align: right;\n",
       "    }\n",
       "</style>\n",
       "<table border=\"1\" class=\"dataframe\">\n",
       "  <thead>\n",
       "    <tr style=\"text-align: right;\">\n",
       "      <th></th>\n",
       "      <th>name</th>\n",
       "      <th>gender</th>\n",
       "      <th>height</th>\n",
       "      <th>weight</th>\n",
       "    </tr>\n",
       "  </thead>\n",
       "  <tbody>\n",
       "    <tr>\n",
       "      <th>0</th>\n",
       "      <td>John</td>\n",
       "      <td>M</td>\n",
       "      <td>183</td>\n",
       "      <td>85</td>\n",
       "    </tr>\n",
       "    <tr>\n",
       "      <th>1</th>\n",
       "      <td>Mary</td>\n",
       "      <td>F</td>\n",
       "      <td>175</td>\n",
       "      <td>70</td>\n",
       "    </tr>\n",
       "    <tr>\n",
       "      <th>2</th>\n",
       "      <td>Nick</td>\n",
       "      <td>M</td>\n",
       "      <td>170</td>\n",
       "      <td>63</td>\n",
       "    </tr>\n",
       "    <tr>\n",
       "      <th>3</th>\n",
       "      <td>Stacy</td>\n",
       "      <td>F</td>\n",
       "      <td>162</td>\n",
       "      <td>50</td>\n",
       "    </tr>\n",
       "    <tr>\n",
       "      <th>4</th>\n",
       "      <td>Tom</td>\n",
       "      <td>M</td>\n",
       "      <td>168</td>\n",
       "      <td>75</td>\n",
       "    </tr>\n",
       "    <tr>\n",
       "      <th>5</th>\n",
       "      <td>Ava</td>\n",
       "      <td>F</td>\n",
       "      <td>185</td>\n",
       "      <td>72</td>\n",
       "    </tr>\n",
       "  </tbody>\n",
       "</table>\n",
       "</div>"
      ],
      "text/plain": [
       "    name gender  height  weight\n",
       "0   John      M     183      85\n",
       "1   Mary      F     175      70\n",
       "2   Nick      M     170      63\n",
       "3  Stacy      F     162      50\n",
       "4    Tom      M     168      75\n",
       "5    Ava      F     185      72"
      ]
     },
     "execution_count": 3,
     "metadata": {},
     "output_type": "execute_result"
    }
   ],
   "source": [
    "# View data\n",
    "df"
   ]
  },
  {
   "cell_type": "markdown",
   "id": "4c96ffc3",
   "metadata": {},
   "source": [
    "It is simple data that has individuals' height and weight information. Our common sense dictates that these two physical traits may have an association. Let's quickly check."
   ]
  },
  {
   "cell_type": "code",
   "execution_count": 4,
   "id": "24413b64",
   "metadata": {},
   "outputs": [
    {
     "data": {
      "image/png": "[encoded data removed]",
      "text/plain": [
       "<Figure size 432x288 with 1 Axes>"
      ]
     },
     "metadata": {
      "needs_background": "light"
     },
     "output_type": "display_data"
    }
   ],
   "source": [
    "# Plot weight vs. height\n",
    "df.plot.scatter(\"weight\", \"height\")\n",
    "plt.show()"
   ]
  },
  {
   "cell_type": "markdown",
   "id": "17fd852c",
   "metadata": {},
   "source": [
    "The scatter plot suggests a linear relationship between weight and height."
   ]
  },
  {
   "cell_type": "markdown",
   "id": "2e35d5cb",
   "metadata": {},
   "source": [
    "Can we quantify this relationship? We can check correlation coefficient:"
   ]
  },
  {
   "cell_type": "code",
   "execution_count": 5,
   "id": "436c5527",
   "metadata": {},
   "outputs": [
    {
     "data": {
      "text/html": [
       "<div>\n",
       "<style scoped>\n",
       "    .dataframe tbody tr th:only-of-type {\n",
       "        vertical-align: middle;\n",
       "    }\n",
       "\n",
       "    .dataframe tbody tr th {\n",
       "        vertical-align: top;\n",
       "    }\n",
       "\n",
       "    .dataframe thead th {\n",
       "        text-align: right;\n",
       "    }\n",
       "</style>\n",
       "<table border=\"1\" class=\"dataframe\">\n",
       "  <thead>\n",
       "    <tr style=\"text-align: right;\">\n",
       "      <th></th>\n",
       "      <th>height</th>\n",
       "      <th>weight</th>\n",
       "    </tr>\n",
       "  </thead>\n",
       "  <tbody>\n",
       "    <tr>\n",
       "      <th>height</th>\n",
       "      <td>1.000000</td>\n",
       "      <td>0.746616</td>\n",
       "    </tr>\n",
       "    <tr>\n",
       "      <th>weight</th>\n",
       "      <td>0.746616</td>\n",
       "      <td>1.000000</td>\n",
       "    </tr>\n",
       "  </tbody>\n",
       "</table>\n",
       "</div>"
      ],
      "text/plain": [
       "          height    weight\n",
       "height  1.000000  0.746616\n",
       "weight  0.746616  1.000000"
      ]
     },
     "execution_count": 5,
     "metadata": {},
     "output_type": "execute_result"
    }
   ],
   "source": [
    "# Calculate correlation coefficient\n",
    "df.corr(method=\"pearson\")"
   ]
  },
  {
   "cell_type": "markdown",
   "id": "b51c7cd0",
   "metadata": {},
   "source": [
    "The value indicates a high correlation, which is not very surprising."
   ]
  },
  {
   "cell_type": "markdown",
   "id": "129b03a4",
   "metadata": {},
   "source": [
    "To make our analysis more interesting, let’s try some formal modeling. Given the linear-looking relationship in the scatter plot, we can use linear regression."
   ]
  },
  {
   "cell_type": "code",
   "execution_count": 6,
   "id": "ff4cce92",
   "metadata": {},
   "outputs": [],
   "source": [
    "# Initiate the model\n",
    "lm = LinearRegression()"
   ]
  },
  {
   "cell_type": "code",
   "execution_count": 7,
   "id": "ec10b3c0",
   "metadata": {},
   "outputs": [
    {
     "data": {
      "text/plain": [
       "LinearRegression()"
      ]
     },
     "execution_count": 7,
     "metadata": {},
     "output_type": "execute_result"
    }
   ],
   "source": [
    "# Fit the model\n",
    "lm.fit(\n",
    "    X=df[[\"height\"]],\n",
    "    y=df[\"weight\"],\n",
    ")"
   ]
  },
  {
   "cell_type": "code",
   "execution_count": 8,
   "id": "84eb045a",
   "metadata": {},
   "outputs": [
    {
     "name": "stdout",
     "output_type": "stream",
     "text": [
      "Coefficient for height: 0.9882992060175508\n"
     ]
    }
   ],
   "source": [
    "# NBVAL_IGNORE_OUTPUT\n",
    "\n",
    "# Check result\n",
    "print(f\"Coefficient for height: {lm.coef_[0]}\")"
   ]
  },
  {
   "cell_type": "markdown",
   "id": "20928a44",
   "metadata": {},
   "source": [
    "Result suggests that a unit increase in height is associated with about a unit increase in weight."
   ]
  },
  {
   "cell_type": "markdown",
   "id": "d5b27b67",
   "metadata": {},
   "source": [
    "Now, we may wonder if gender plays any role in this. That is, given the same gender, how is change in height associated with change in weight?\n",
    "\n",
    "To answer this question, we can include the gender term in our regression model. But we need to first pre-process the data. Specifically, `gender` needs to be transformed into a numeric variable so that the model can use it. Let's code male as `0` and female as `1`."
   ]
  },
  {
   "cell_type": "code",
   "execution_count": 9,
   "id": "32b78e90",
   "metadata": {},
   "outputs": [],
   "source": [
    "# Create a numeric variable encoding gender\n",
    "df[\"gender_numeric\"] = df[\"gender\"].map({\"M\": 0, \"F\": 1})"
   ]
  },
  {
   "cell_type": "code",
   "execution_count": 10,
   "id": "74e68500",
   "metadata": {},
   "outputs": [
    {
     "data": {
      "text/html": [
       "<div>\n",
       "<style scoped>\n",
       "    .dataframe tbody tr th:only-of-type {\n",
       "        vertical-align: middle;\n",
       "    }\n",
       "\n",
       "    .dataframe tbody tr th {\n",
       "        vertical-align: top;\n",
       "    }\n",
       "\n",
       "    .dataframe thead th {\n",
       "        text-align: right;\n",
       "    }\n",
       "</style>\n",
       "<table border=\"1\" class=\"dataframe\">\n",
       "  <thead>\n",
       "    <tr style=\"text-align: right;\">\n",
       "      <th></th>\n",
       "      <th>name</th>\n",
       "      <th>gender</th>\n",
       "      <th>height</th>\n",
       "      <th>weight</th>\n",
       "      <th>gender_numeric</th>\n",
       "    </tr>\n",
       "  </thead>\n",
       "  <tbody>\n",
       "    <tr>\n",
       "      <th>0</th>\n",
       "      <td>John</td>\n",
       "      <td>M</td>\n",
       "      <td>183</td>\n",
       "      <td>85</td>\n",
       "      <td>0</td>\n",
       "    </tr>\n",
       "    <tr>\n",
       "      <th>1</th>\n",
       "      <td>Mary</td>\n",
       "      <td>F</td>\n",
       "      <td>175</td>\n",
       "      <td>70</td>\n",
       "      <td>1</td>\n",
       "    </tr>\n",
       "    <tr>\n",
       "      <th>2</th>\n",
       "      <td>Nick</td>\n",
       "      <td>M</td>\n",
       "      <td>170</td>\n",
       "      <td>63</td>\n",
       "      <td>0</td>\n",
       "    </tr>\n",
       "    <tr>\n",
       "      <th>3</th>\n",
       "      <td>Stacy</td>\n",
       "      <td>F</td>\n",
       "      <td>162</td>\n",
       "      <td>50</td>\n",
       "      <td>1</td>\n",
       "    </tr>\n",
       "    <tr>\n",
       "      <th>4</th>\n",
       "      <td>Tom</td>\n",
       "      <td>M</td>\n",
       "      <td>168</td>\n",
       "      <td>75</td>\n",
       "      <td>0</td>\n",
       "    </tr>\n",
       "    <tr>\n",
       "      <th>5</th>\n",
       "      <td>Ava</td>\n",
       "      <td>F</td>\n",
       "      <td>185</td>\n",
       "      <td>72</td>\n",
       "      <td>1</td>\n",
       "    </tr>\n",
       "  </tbody>\n",
       "</table>\n",
       "</div>"
      ],
      "text/plain": [
       "    name gender  height  weight  gender_numeric\n",
       "0   John      M     183      85               0\n",
       "1   Mary      F     175      70               1\n",
       "2   Nick      M     170      63               0\n",
       "3  Stacy      F     162      50               1\n",
       "4    Tom      M     168      75               0\n",
       "5    Ava      F     185      72               1"
      ]
     },
     "execution_count": 10,
     "metadata": {},
     "output_type": "execute_result"
    }
   ],
   "source": [
    "# View data\n",
    "df"
   ]
  },
  {
   "cell_type": "markdown",
   "id": "a498ff49",
   "metadata": {},
   "source": [
    "And we retrain the model using the new gender term:"
   ]
  },
  {
   "cell_type": "code",
   "execution_count": 11,
   "id": "e8ff75e3",
   "metadata": {},
   "outputs": [
    {
     "data": {
      "text/plain": [
       "LinearRegression()"
      ]
     },
     "execution_count": 11,
     "metadata": {},
     "output_type": "execute_result"
    }
   ],
   "source": [
    "# Refit the model\n",
    "lm.fit(\n",
    "    X=df[[\"height\", \"gender_numeric\"]],\n",
    "    y=df[\"weight\"],\n",
    ")"
   ]
  },
  {
   "cell_type": "code",
   "execution_count": 12,
   "id": "5a773dee",
   "metadata": {},
   "outputs": [
    {
     "name": "stdout",
     "output_type": "stream",
     "text": [
      "Coefficient for height: 1.0016722408026753\n",
      "Coefficient for gender: -10.667224080267554\n"
     ]
    }
   ],
   "source": [
    "# NBVAL_IGNORE_OUTPUT\n",
    "\n",
    "# Check result\n",
    "print(f\"Coefficient for height: {lm.coef_[0]}\")\n",
    "print(f\"Coefficient for gender: {lm.coef_[1]}\")"
   ]
  },
  {
   "cell_type": "markdown",
   "id": "70482529",
   "metadata": {},
   "source": [
    "Result is similar to what we observed before, i.e. a unit increase in height is associated with about a unit increase in weight. Interestingly, we also see the gender difference in weight quantified: controlling for height, females tend to be about 10 units lighter than males."
   ]
  },
  {
   "cell_type": "markdown",
   "id": "3d97c512",
   "metadata": {},
   "source": [
    "Maybe gender plays a role in a different way: it may mediate the strength of the association between height and weight. For instance, height may more strongly relate with weight among males (than among females). To examine this possibility, we can introduce an interaction term."
   ]
  },
  {
   "cell_type": "code",
   "execution_count": 13,
   "id": "f4157a8d",
   "metadata": {},
   "outputs": [],
   "source": [
    "# Create an gender interaction term\n",
    "df[\"gender_height\"] = df[\"gender_numeric\"] * df[\"height\"]"
   ]
  },
  {
   "cell_type": "code",
   "execution_count": 14,
   "id": "c6457445",
   "metadata": {},
   "outputs": [
    {
     "data": {
      "text/plain": [
       "LinearRegression()"
      ]
     },
     "execution_count": 14,
     "metadata": {},
     "output_type": "execute_result"
    }
   ],
   "source": [
    "# Refit the model\n",
    "lm.fit(\n",
    "    X=df[[\"height\", \"gender_numeric\", \"gender_height\"]],\n",
    "    y=df[\"weight\"],\n",
    ")"
   ]
  },
  {
   "cell_type": "code",
   "execution_count": 15,
   "id": "9c65f7e6",
   "metadata": {},
   "outputs": [
    {
     "name": "stdout",
     "output_type": "stream",
     "text": [
      "Coefficient for height: 1.035175879396986\n",
      "Coefficient for gender: -1.9412475913398337\n",
      "Coefficient for gender-height interaction: -0.0502134733819492\n"
     ]
    }
   ],
   "source": [
    "# NBVAL_IGNORE_OUTPUT\n",
    "\n",
    "# Check result\n",
    "print(f\"Coefficient for height: {lm.coef_[0]}\")\n",
    "print(f\"Coefficient for gender: {lm.coef_[1]}\")\n",
    "print(f\"Coefficient for gender-height interaction: {lm.coef_[2]}\")"
   ]
  },
  {
   "cell_type": "markdown",
   "id": "560c2670",
   "metadata": {},
   "source": [
    "We see that the interaction coefficient is not very large but, given the reduction in gender coefficient, we can see that the gender difference we observed earlier is largely attributable to interaction. We also confirm that a unit increase in height is still associated with about a unit increase in weight &mdash; after controlling for interaction."
   ]
  },
  {
   "cell_type": "markdown",
   "id": "ec20f22f",
   "metadata": {},
   "source": [
    "Now, we are ready to wrap up our analysis. Say we decided that we would later revisit our final model. We can then store it as an artifact, like so:"
   ]
  },
  {
   "cell_type": "code",
   "execution_count": 16,
   "id": "0fbcdddc",
   "metadata": {},
   "outputs": [],
   "source": [
    "# Save model as an artifact\n",
    "artifact = lineapy.save(lm, \"linear_model\")"
   ]
  },
  {
   "cell_type": "markdown",
   "id": "8db1f046",
   "metadata": {},
   "source": [
    "If we print the artifact’s code, we get:"
   ]
  },
  {
   "cell_type": "code",
   "execution_count": 17,
   "id": "9efc7b30",
   "metadata": {},
   "outputs": [
    {
     "name": "stdout",
     "output_type": "stream",
     "text": [
      "import pandas as pd\n",
      "from sklearn.linear_model import LinearRegression\n",
      "df = pd.read_csv(\"data/biometrics.csv\")\n",
      "lm = LinearRegression()\n",
      "lm.fit(\n",
      "    X=df[[\"height\"]],\n",
      "    y=df[\"weight\"],\n",
      ")\n",
      "df[\"gender_numeric\"] = df[\"gender\"].map({\"M\": 0, \"F\": 1})\n",
      "lm.fit(\n",
      "    X=df[[\"height\", \"gender_numeric\"]],\n",
      "    y=df[\"weight\"],\n",
      ")\n",
      "df[\"gender_height\"] = df[\"gender_numeric\"] * df[\"height\"]\n",
      "lm.fit(\n",
      "    X=df[[\"height\", \"gender_numeric\", \"gender_height\"]],\n",
      "    y=df[\"weight\"],\n",
      ")\n",
      "\n"
     ]
    }
   ],
   "source": [
    "print(artifact.get_code())"
   ]
  },
  {
   "cell_type": "markdown",
   "id": "f680fe4a",
   "metadata": {},
   "source": [
    "which is much more concise and manageable than what we have generated &mdash; a long, messy collection of various operations."
   ]
  },
  {
   "cell_type": "markdown",
   "id": "7cd63ad2",
   "metadata": {},
   "source": [
    "Note that actual development scripts/notebooks by data scientists are much longer and more complicated than the current example. Hence, LineaPy's automatic code refactoring can save considerable time for data scientists and production engineers."
   ]
  }
 ],
 "metadata": {
  "kernelspec": {
   "display_name": "Python 3 (ipykernel)",
   "language": "python",
   "name": "python3"
  },
  "language_info": {
   "codemirror_mode": {
    "name": "ipython",
    "version": 3
   },
   "file_extension": ".py",
   "mimetype": "text/x-python",
   "name": "python",
   "nbconvert_exporter": "python",
   "pygments_lexer": "ipython3",
   "version": "3.8.9"
  }
 },
 "nbformat": 4,
 "nbformat_minor": 5
}
