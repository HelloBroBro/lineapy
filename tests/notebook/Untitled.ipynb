{
 "cells": [
  {
   "cell_type": "code",
   "execution_count": 1,
   "id": "feac6cc0-f813-4b48-a54e-6835e9770a09",
   "metadata": {},
   "outputs": [],
   "source": [
    "import lineapy.ipython\n",
    "lineapy.ipython.start()"
   ]
  },
  {
   "cell_type": "code",
   "execution_count": 2,
   "id": "6940447b-076c-4849-8280-b9dedc211f78",
   "metadata": {},
   "outputs": [],
   "source": [
    "import lineapy"
   ]
  },
  {
   "cell_type": "code",
   "execution_count": 3,
   "id": "fc217068-5be5-4594-a088-2f7e6cf9eb67",
   "metadata": {},
   "outputs": [],
   "source": [
    "def fn():\n",
    "    print(\"Hey there\")\n",
    "    return 10"
   ]
  },
  {
   "cell_type": "code",
   "execution_count": 4,
   "id": "b4824665-400a-4c0f-8a40-79b9d8ee977f",
   "metadata": {},
   "outputs": [
    {
     "name": "stdout",
     "output_type": "stream",
     "text": [
      "Hey there\n"
     ]
    }
   ],
   "source": [
    "x = fn()"
   ]
  },
  {
   "cell_type": "code",
   "execution_count": 5,
   "id": "2bbff816-ee3c-4652-b260-e5428cbcb216",
   "metadata": {},
   "outputs": [
    {
     "data": {
      "text/plain": [
       "'from airflow import DAG\\nfrom airflow.utils.dates import days_ago\\nfrom airflow.operators.python_operator import PythonOperator\\n\\n\\ndef x():\\n    def fn():\\n        print(\"Hey there\")\\n        return 10\\n\\n    x = fn()\\n\\n\\ndefault_dag_args = {\\n    \"owner\": \"airflow\",\\n    \"retries\": 2,\\n    \"start_date\": days_ago(1),\\n}\\n\\ndag = DAG(\\n    dag_id=\"x_dag\",\\n    schedule_interval=\"*/15 * * * *\",  # Every 15 minutes\\n    max_active_runs=1,\\n    catchup=False,\\n    default_args=default_dag_args,\\n)\\n\\nx = PythonOperator(\\n    dag=dag,\\n    task_id=f\"x_task\",\\n    python_callable=x,\\n)\\n'"
      ]
     },
     "execution_count": 5,
     "metadata": {},
     "output_type": "execute_result"
    }
   ],
   "source": [
    "lineapy.save(x, \"x\").to_airflow().read_text()"
   ]
  },
  {
   "cell_type": "code",
   "execution_count": null,
   "id": "04e5ba05-24f3-413f-b0a0-aea77c015d02",
   "metadata": {},
   "outputs": [],
   "source": []
  }
 ],
 "metadata": {
  "kernelspec": {
   "display_name": "Python 3 (ipykernel)",
   "language": "python",
   "name": "python3"
  },
  "language_info": {
   "codemirror_mode": {
    "name": "ipython",
    "version": 3
   },
   "file_extension": ".py",
   "mimetype": "text/x-python",
   "name": "python",
   "nbconvert_exporter": "python",
   "pygments_lexer": "ipython3",
   "version": "3.9.7"
  }
 },
 "nbformat": 4,
 "nbformat_minor": 5
}
