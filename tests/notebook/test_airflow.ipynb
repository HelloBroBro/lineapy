{
 "cells": [
  {
   "cell_type": "code",
   "execution_count": 2,
   "id": "3054022d-ea1b-4422-bd97-b323b72b0322",
   "metadata": {},
   "outputs": [
    {
     "name": "stdout",
     "output_type": "stream",
     "text": [
      "from airflow import DAG\n",
      "from airflow.utils.dates import days_ago\n",
      "from airflow.operators.python_operator import PythonOperator\n",
      "\n",
      "\n",
      "def z():\n",
      "    x = 100\n",
      "    z = [x]\n",
      "\n",
      "\n",
      "default_dag_args = {\n",
      "    \"owner\": \"airflow\",\n",
      "    \"retries\": 2,\n",
      "    \"start_date\": days_ago(1),\n",
      "}\n",
      "\n",
      "dag = DAG(\n",
      "    dag_id=\"z_dag\",\n",
      "    schedule_interval=\"*/15 * * * *\",  # Every 15 minutes\n",
      "    max_active_runs=1,\n",
      "    catchup=False,\n",
      "    default_args=default_dag_args,\n",
      ")\n",
      "\n",
      "z = PythonOperator(\n",
      "    dag=dag,\n",
      "    task_id=f\"z_task\",\n",
      "    python_callable=z,\n",
      ")\n",
      "\n"
     ]
    }
   ],
   "source": [
    "import lineapy\n",
    "\n",
    "x = 100\n",
    "y = 10\n",
    "\n",
    "z = [x]\n",
    "\n",
    "dag_path = lineapy.save(z, \"z\").to_airflow(\"dag.py\")\n",
    "print(dag_path.read_text())"
   ]
  },
  {
   "cell_type": "code",
   "execution_count": null,
   "id": "473e9f9c-77d5-4bbd-ae76-f01a95667373",
   "metadata": {},
   "outputs": [],
   "source": []
  }
 ],
 "metadata": {
  "kernelspec": {
   "display_name": "Python 3 (ipykernel)",
   "language": "python",
   "name": "python3"
  },
  "language_info": {
   "codemirror_mode": {
    "name": "ipython",
    "version": 3
   },
   "file_extension": ".py",
   "mimetype": "text/x-python",
   "name": "python",
   "nbconvert_exporter": "python",
   "pygments_lexer": "ipython3",
   "version": "3.9.7"
  }
 },
 "nbformat": 4,
 "nbformat_minor": 5
}
