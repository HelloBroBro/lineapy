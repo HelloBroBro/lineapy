{
 "cells": [
  {
   "cell_type": "markdown",
   "id": "06ac3074-0510-43fe-86d2-84101db99956",
   "metadata": {
    "execution": {
     "iopub.execute_input": "2021-11-09T01:55:18.472348Z",
     "iopub.status.busy": "2021-11-09T01:55:18.471321Z",
     "iopub.status.idle": "2021-11-09T01:55:18.491222Z",
     "shell.execute_reply": "2021-11-09T01:55:18.490407Z"
    },
    "tags": []
   },
   "source": [
    "Verify that exceptions have the proper tracebacks."
   ]
  },
  {
   "cell_type": "code",
   "execution_count": 1,
   "id": "3b093f9d",
   "metadata": {
    "execution": {
     "iopub.execute_input": "2021-11-09T19:56:13.413751Z",
     "iopub.status.busy": "2021-11-09T19:56:13.412890Z",
     "iopub.status.idle": "2021-11-09T19:56:13.453359Z",
     "shell.execute_reply": "2021-11-09T19:56:13.453732Z"
    },
    "tags": []
   },
   "outputs": [],
   "source": [
    "def f():\n",
    "    1 / 0"
   ]
  },
  {
   "cell_type": "code",
   "execution_count": 2,
   "id": "7f86e667",
   "metadata": {
    "execution": {
     "iopub.execute_input": "2021-11-09T19:56:13.456702Z",
     "iopub.status.busy": "2021-11-09T19:56:13.456136Z",
     "iopub.status.idle": "2021-11-09T19:56:13.635561Z",
     "shell.execute_reply": "2021-11-09T19:56:13.635901Z"
    },
    "tags": []
   },
   "outputs": [
    {
     "ename": "ZeroDivisionError",
     "evalue": "division by zero",
     "output_type": "error",
     "traceback": [
      "\u001b[0;31m---------------------------------------------------------------------------\u001b[0m",
      "\u001b[0;31mZeroDivisionError\u001b[0m                         Traceback (most recent call last)",
      "\u001b[0;32m/var/folders/xn/05ktz3056kqd9n8frgd6236h0000gn/T/tmpu3abs0kolinea_ipython/bc34a65e-770c-40d1-a703-78b996a30a10_2.py\u001b[0m in \u001b[0;36m<module>\u001b[0;34m\u001b[0m\n\u001b[1;32m      1\u001b[0m \u001b[0;31m# NBVAL_RAISES_EXCEPTION\u001b[0m\u001b[0;34m\u001b[0m\u001b[0;34m\u001b[0m\u001b[0m\n\u001b[0;32m----> 2\u001b[0;31m \u001b[0mf\u001b[0m\u001b[0;34m(\u001b[0m\u001b[0;34m)\u001b[0m\u001b[0;34m\u001b[0m\u001b[0;34m\u001b[0m\u001b[0m\n\u001b[0m",
      "\u001b[0;32m/var/folders/xn/05ktz3056kqd9n8frgd6236h0000gn/T/tmpu3abs0kolinea_ipython/bc34a65e-770c-40d1-a703-78b996a30a10_1.py\u001b[0m in \u001b[0;36mf\u001b[0;34m()\u001b[0m\n\u001b[1;32m      1\u001b[0m \u001b[0;32mdef\u001b[0m \u001b[0mf\u001b[0m\u001b[0;34m(\u001b[0m\u001b[0;34m)\u001b[0m\u001b[0;34m:\u001b[0m\u001b[0;34m\u001b[0m\u001b[0;34m\u001b[0m\u001b[0m\n\u001b[0;32m----> 2\u001b[0;31m     \u001b[0;36m1\u001b[0m \u001b[0;34m/\u001b[0m \u001b[0;36m0\u001b[0m\u001b[0;34m\u001b[0m\u001b[0;34m\u001b[0m\u001b[0m\n\u001b[0m",
      "\u001b[0;31mZeroDivisionError\u001b[0m: division by zero"
     ]
    }
   ],
   "source": [
    "# NBVAL_RAISES_EXCEPTION\n",
    "f()"
   ]
  }
 ],
 "metadata": {
  "kernelspec": {
   "display_name": "Python 3 (ipykernel)",
   "language": "python",
   "name": "python3"
  },
  "language_info": {
   "codemirror_mode": {
    "name": "ipython",
    "version": 3
   },
   "file_extension": ".py",
   "mimetype": "text/x-python",
   "name": "python",
   "nbconvert_exporter": "python",
   "pygments_lexer": "ipython3",
   "version": "3.9.7"
  },
  "widgets": {
   "application/vnd.jupyter.widget-state+json": {
    "state": {},
    "version_major": 2,
    "version_minor": 0
   }
  }
 },
 "nbformat": 4,
 "nbformat_minor": 5
}
