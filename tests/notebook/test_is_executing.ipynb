{
 "cells": [
  {
   "cell_type": "markdown",
   "id": "92e3dbb4",
   "metadata": {},
   "source": [
    "Test that linea tracing is active"
   ]
  },
  {
   "cell_type": "code",
   "execution_count": 1,
   "id": "06ac3074-0510-43fe-86d2-84101db99956",
   "metadata": {
    "execution": {
     "iopub.execute_input": "2021-11-16T03:25:57.058669Z",
     "iopub.status.busy": "2021-11-16T03:25:57.058012Z",
     "iopub.status.idle": "2021-11-16T03:25:57.210457Z",
     "shell.execute_reply": "2021-11-16T03:25:57.209721Z"
    },
    "tags": []
   },
   "outputs": [],
   "source": [
    "import lineapy\n",
    "assert lineapy._is_executing()"
   ]
  }
 ],
 "metadata": {
  "kernelspec": {
   "display_name": "Python 3 (ipykernel)",
   "language": "python",
   "name": "python3"
  },
  "language_info": {
   "codemirror_mode": {
    "name": "ipython",
    "version": 3
   },
   "file_extension": ".py",
   "mimetype": "text/x-python",
   "name": "python",
   "nbconvert_exporter": "python",
   "pygments_lexer": "ipython3",
   "version": "3.9.6"
  },
  "widgets": {
   "application/vnd.jupyter.widget-state+json": {
    "state": {},
    "version_major": 2,
    "version_minor": 0
   }
  }
 },
 "nbformat": 4,
 "nbformat_minor": 5
}
