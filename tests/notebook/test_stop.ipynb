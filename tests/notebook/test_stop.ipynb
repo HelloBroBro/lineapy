{
 "cells": [
  {
   "cell_type": "code",
   "execution_count": 1,
   "id": "06ac3074-0510-43fe-86d2-84101db99956",
   "metadata": {
    "execution": {
     "iopub.execute_input": "2021-11-09T19:56:07.320754Z",
     "iopub.status.busy": "2021-11-09T19:56:07.319995Z",
     "iopub.status.idle": "2021-11-09T19:56:07.370344Z",
     "shell.execute_reply": "2021-11-09T19:56:07.370773Z"
    },
    "tags": []
   },
   "outputs": [],
   "source": [
    "import lineapy\n",
    "lineapy.stop()"
   ]
  },
  {
   "cell_type": "code",
   "execution_count": 2,
   "id": "10bb806e-f159-4bf0-aa73-dbf34dde7e6f",
   "metadata": {
    "execution": {
     "iopub.execute_input": "2021-11-09T19:56:07.375146Z",
     "iopub.status.busy": "2021-11-09T19:56:07.374478Z",
     "iopub.status.idle": "2021-11-09T19:56:07.377040Z",
     "shell.execute_reply": "2021-11-09T19:56:07.376396Z"
    },
    "tags": []
   },
   "outputs": [],
   "source": [
    "assert not lineapy._is_executing()"
   ]
  }
 ],
 "metadata": {
  "kernelspec": {
   "display_name": "Python 3 (ipykernel)",
   "language": "python",
   "name": "python3"
  },
  "language_info": {
   "codemirror_mode": {
    "name": "ipython",
    "version": 3
   },
   "file_extension": ".py",
   "mimetype": "text/x-python",
   "name": "python",
   "nbconvert_exporter": "python",
   "pygments_lexer": "ipython3",
   "version": "3.9.7"
  },
  "widgets": {
   "application/vnd.jupyter.widget-state+json": {
    "state": {},
    "version_major": 2,
    "version_minor": 0
   }
  }
 },
 "nbformat": 4,
 "nbformat_minor": 5
}
