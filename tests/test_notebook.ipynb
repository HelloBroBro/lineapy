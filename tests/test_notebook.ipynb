{
 "cells": [
  {
   "cell_type": "code",
   "execution_count": 1,
   "id": "8c6b8c9e-aee5-41ad-a2b3-a8e08060224a",
   "metadata": {
    "execution": {
     "iopub.execute_input": "2021-10-06T21:27:59.523654Z",
     "iopub.status.busy": "2021-10-06T21:27:59.523435Z",
     "iopub.status.idle": "2021-10-06T21:27:59.927942Z",
     "shell.execute_reply": "2021-10-06T21:27:59.927333Z",
     "shell.execute_reply.started": "2021-10-06T21:27:59.523597Z"
    },
    "tags": []
   },
   "outputs": [],
   "source": [
    "import lineapy.ipython\n",
    "lineapy.ipython.start()"
   ]
  },
  {
   "cell_type": "code",
   "execution_count": 2,
   "id": "e5bb6a97-9ecd-44a1-a554-04e38e435e0d",
   "metadata": {
    "execution": {
     "iopub.execute_input": "2021-10-06T21:27:59.929161Z",
     "iopub.status.busy": "2021-10-06T21:27:59.928962Z",
     "iopub.status.idle": "2021-10-06T21:27:59.942046Z",
     "shell.execute_reply": "2021-10-06T21:27:59.941453Z",
     "shell.execute_reply.started": "2021-10-06T21:27:59.929142Z"
    },
    "tags": []
   },
   "outputs": [
    {
     "name": "stdout",
     "output_type": "stream",
     "text": [
      "\n"
     ]
    }
   ],
   "source": [
    "import lineapy"
   ]
  },
  {
   "cell_type": "code",
   "execution_count": 3,
   "id": "06ac3074-0510-43fe-86d2-84101db99956",
   "metadata": {
    "execution": {
     "iopub.execute_input": "2021-10-06T21:27:59.944462Z",
     "iopub.status.busy": "2021-10-06T21:27:59.944262Z",
     "iopub.status.idle": "2021-10-06T21:27:59.952939Z",
     "shell.execute_reply": "2021-10-06T21:27:59.952230Z",
     "shell.execute_reply.started": "2021-10-06T21:27:59.944442Z"
    },
    "tags": []
   },
   "outputs": [
    {
     "name": "stdout",
     "output_type": "stream",
     "text": [
      "\n"
     ]
    }
   ],
   "source": [
    "x = 1"
   ]
  },
  {
   "cell_type": "code",
   "execution_count": 4,
   "id": "10bb806e-f159-4bf0-aa73-dbf34dde7e6f",
   "metadata": {
    "execution": {
     "iopub.execute_input": "2021-10-06T21:27:59.954244Z",
     "iopub.status.busy": "2021-10-06T21:27:59.953975Z",
     "iopub.status.idle": "2021-10-06T21:27:59.964901Z",
     "shell.execute_reply": "2021-10-06T21:27:59.964325Z",
     "shell.execute_reply.started": "2021-10-06T21:27:59.954221Z"
    },
    "tags": []
   },
   "outputs": [
    {
     "name": "stdout",
     "output_type": "stream",
     "text": [
      "\n"
     ]
    },
    {
     "data": {
      "text/plain": [
       "1"
      ]
     },
     "execution_count": 4,
     "metadata": {},
     "output_type": "execute_result"
    }
   ],
   "source": [
    "x"
   ]
  },
  {
   "cell_type": "code",
   "execution_count": 5,
   "id": "825d8a99-fefe-43ea-b4a0-7c87f66da9c4",
   "metadata": {
    "execution": {
     "iopub.execute_input": "2021-10-06T21:27:59.966166Z",
     "iopub.status.busy": "2021-10-06T21:27:59.965975Z",
     "iopub.status.idle": "2021-10-06T21:27:59.979771Z",
     "shell.execute_reply": "2021-10-06T21:27:59.978839Z",
     "shell.execute_reply.started": "2021-10-06T21:27:59.966146Z"
    },
    "tags": []
   },
   "outputs": [
    {
     "name": "stdout",
     "output_type": "stream",
     "text": [
      "hi\n",
      "\n"
     ]
    }
   ],
   "source": [
    "print(\"hi\")"
   ]
  },
  {
   "cell_type": "code",
   "execution_count": 6,
   "id": "9f98269e-d73b-4ca4-bab6-8b01ddb09403",
   "metadata": {
    "execution": {
     "iopub.execute_input": "2021-10-06T21:27:59.981294Z",
     "iopub.status.busy": "2021-10-06T21:27:59.981052Z",
     "iopub.status.idle": "2021-10-06T21:27:59.996418Z",
     "shell.execute_reply": "2021-10-06T21:27:59.995521Z",
     "shell.execute_reply.started": "2021-10-06T21:27:59.981271Z"
    }
   },
   "outputs": [
    {
     "name": "stdout",
     "output_type": "stream",
     "text": [
      "hi\n",
      "\n"
     ]
    }
   ],
   "source": [
    "z = x * 1000"
   ]
  },
  {
   "cell_type": "code",
   "execution_count": 7,
   "id": "01c58481-9846-49f5-a9c0-f9409386155d",
   "metadata": {
    "execution": {
     "iopub.execute_input": "2021-10-06T21:27:59.997744Z",
     "iopub.status.busy": "2021-10-06T21:27:59.997529Z",
     "iopub.status.idle": "2021-10-06T21:28:00.012023Z",
     "shell.execute_reply": "2021-10-06T21:28:00.011477Z",
     "shell.execute_reply.started": "2021-10-06T21:27:59.997721Z"
    },
    "tags": []
   },
   "outputs": [
    {
     "name": "stdout",
     "output_type": "stream",
     "text": [
      "hi\n",
      "\n"
     ]
    }
   ],
   "source": [
    "y = x * 100"
   ]
  },
  {
   "cell_type": "code",
   "execution_count": 8,
   "id": "147dc0d3-092c-4763-ae01-7622a15cd0d7",
   "metadata": {
    "execution": {
     "iopub.execute_input": "2021-10-06T21:28:00.013411Z",
     "iopub.status.busy": "2021-10-06T21:28:00.013180Z",
     "iopub.status.idle": "2021-10-06T21:28:00.021299Z",
     "shell.execute_reply": "2021-10-06T21:28:00.020727Z",
     "shell.execute_reply.started": "2021-10-06T21:28:00.013385Z"
    }
   },
   "outputs": [
    {
     "name": "stdout",
     "output_type": "stream",
     "text": [
      "hi\n",
      "\n"
     ]
    }
   ],
   "source": [
    "lineapy.save(y, \"y\")"
   ]
  },
  {
   "cell_type": "code",
   "execution_count": 9,
   "id": "253a3112-b26d-4096-a6dd-8a42c3e70fbd",
   "metadata": {
    "execution": {
     "iopub.execute_input": "2021-10-06T21:28:00.022620Z",
     "iopub.status.busy": "2021-10-06T21:28:00.022332Z",
     "iopub.status.idle": "2021-10-06T21:28:00.025480Z",
     "shell.execute_reply": "2021-10-06T21:28:00.024793Z",
     "shell.execute_reply.started": "2021-10-06T21:28:00.022595Z"
    },
    "tags": []
   },
   "outputs": [],
   "source": [
    "tracer = lineapy.ipython.stop()"
   ]
  },
  {
   "cell_type": "code",
   "execution_count": 10,
   "id": "a7d342c9-e774-403f-b12b-9cabd9c8287c",
   "metadata": {
    "execution": {
     "iopub.execute_input": "2021-10-06T21:28:00.026394Z",
     "iopub.status.busy": "2021-10-06T21:28:00.026252Z",
     "iopub.status.idle": "2021-10-06T21:28:00.060814Z",
     "shell.execute_reply": "2021-10-06T21:28:00.060299Z",
     "shell.execute_reply.started": "2021-10-06T21:28:00.026375Z"
    },
    "tags": []
   },
   "outputs": [
    {
     "name": "stdout",
     "output_type": "stream",
     "text": [
      "x = 1\n",
      "y = x * 100\n",
      "\n"
     ]
    }
   ],
   "source": [
    "print(tracer.slice(\"y\"))"
   ]
  }
 ],
 "metadata": {
  "kernelspec": {
   "display_name": "Python 3 (ipykernel)",
   "language": "python",
   "name": "python3"
  },
  "language_info": {
   "codemirror_mode": {
    "name": "ipython",
    "version": 3
   },
   "file_extension": ".py",
   "mimetype": "text/x-python",
   "name": "python",
   "nbconvert_exporter": "python",
   "pygments_lexer": "ipython3",
   "version": "3.9.6"
  },
  "widgets": {
   "application/vnd.jupyter.widget-state+json": {
    "state": {},
    "version_major": 2,
    "version_minor": 0
   }
  }
 },
 "nbformat": 4,
 "nbformat_minor": 5
}
