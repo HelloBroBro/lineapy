{
 "cells": [
  {
   "cell_type": "code",
   "execution_count": 1,
   "id": "8c6b8c9e-aee5-41ad-a2b3-a8e08060224a",
   "metadata": {
    "tags": []
   },
   "outputs": [],
   "source": [
    "import lineapy.ipython\n",
    "lineapy.ipython.start()"
   ]
  },
  {
   "cell_type": "code",
   "execution_count": 2,
   "id": "e5bb6a97-9ecd-44a1-a554-04e38e435e0d",
   "metadata": {
    "tags": []
   },
   "outputs": [],
   "source": [
    "import lineapy"
   ]
  },
  {
   "cell_type": "code",
   "execution_count": 3,
   "id": "06ac3074-0510-43fe-86d2-84101db99956",
   "metadata": {
    "tags": []
   },
   "outputs": [],
   "source": [
    "x = 1"
   ]
  },
  {
   "cell_type": "code",
   "execution_count": 4,
   "id": "10bb806e-f159-4bf0-aa73-dbf34dde7e6f",
   "metadata": {
    "tags": []
   },
   "outputs": [
    {
     "data": {
      "text/plain": [
       "1"
      ]
     },
     "execution_count": 4,
     "metadata": {},
     "output_type": "execute_result"
    }
   ],
   "source": [
    "x"
   ]
  },
  {
   "cell_type": "code",
   "execution_count": 5,
   "id": "825d8a99-fefe-43ea-b4a0-7c87f66da9c4",
   "metadata": {
    "tags": []
   },
   "outputs": [
    {
     "name": "stdout",
     "output_type": "stream",
     "text": [
      "hi\n"
     ]
    }
   ],
   "source": [
    "print(\"hi\")"
   ]
  },
  {
   "cell_type": "code",
   "execution_count": 6,
   "id": "9f98269e-d73b-4ca4-bab6-8b01ddb09403",
   "metadata": {},
   "outputs": [],
   "source": [
    "z = x * 1000"
   ]
  },
  {
   "cell_type": "code",
   "execution_count": 7,
   "id": "01c58481-9846-49f5-a9c0-f9409386155d",
   "metadata": {
    "tags": []
   },
   "outputs": [],
   "source": [
    "y = x * 100"
   ]
  },
  {
   "cell_type": "code",
   "execution_count": 8,
   "id": "3b093f9d",
   "metadata": {},
   "outputs": [],
   "source": [
    "def f():\n",
    "    1 / 0"
   ]
  },
  {
   "cell_type": "code",
   "execution_count": 10,
   "id": "7f86e667",
   "metadata": {},
   "outputs": [
    {
     "ename": "ZeroDivisionError",
     "evalue": "division by zero",
     "output_type": "error",
     "traceback": [
      "\u001b[0;31m---------------------------------------------------------------------------\u001b[0m",
      "\u001b[0;31mZeroDivisionError\u001b[0m                         Traceback (most recent call last)",
      "\u001b[0;32m/var/folders/xn/05ktz3056kqd9n8frgd6236h0000gn/T/tmphan4kvxylinea_ipython/49fe501e-2776-4473-a002-9417731766a9_9.py\u001b[0m in \u001b[0;36m<module>\u001b[0;34m\u001b[0m\n\u001b[1;32m      1\u001b[0m \u001b[0;31m# NBVAL_RAISES_EXCEPTION\u001b[0m\u001b[0;34m\u001b[0m\u001b[0;34m\u001b[0m\u001b[0m\n\u001b[0;32m----> 2\u001b[0;31m \u001b[0mf\u001b[0m\u001b[0;34m(\u001b[0m\u001b[0;34m)\u001b[0m\u001b[0;34m\u001b[0m\u001b[0;34m\u001b[0m\u001b[0m\n\u001b[0m",
      "\u001b[0;32m/var/folders/xn/05ktz3056kqd9n8frgd6236h0000gn/T/tmphan4kvxylinea_ipython/49fe501e-2776-4473-a002-9417731766a9_8.py\u001b[0m in \u001b[0;36mf\u001b[0;34m()\u001b[0m\n\u001b[1;32m      1\u001b[0m \u001b[0;32mdef\u001b[0m \u001b[0mf\u001b[0m\u001b[0;34m(\u001b[0m\u001b[0;34m)\u001b[0m\u001b[0;34m:\u001b[0m\u001b[0;34m\u001b[0m\u001b[0;34m\u001b[0m\u001b[0m\n\u001b[0;32m----> 2\u001b[0;31m     \u001b[0;36m1\u001b[0m \u001b[0;34m/\u001b[0m \u001b[0;36m0\u001b[0m\u001b[0;34m\u001b[0m\u001b[0;34m\u001b[0m\u001b[0m\n\u001b[0m",
      "\u001b[0;31mZeroDivisionError\u001b[0m: division by zero"
     ]
    }
   ],
   "source": [
    "# NBVAL_RAISES_EXCEPTION\n",
    "f()"
   ]
  },
  {
   "cell_type": "code",
   "execution_count": 11,
   "id": "147dc0d3-092c-4763-ae01-7622a15cd0d7",
   "metadata": {},
   "outputs": [
    {
     "name": "stdout",
     "output_type": "stream",
     "text": [
      "x = 1\n",
      "y = x * 100\n",
      "\n"
     ]
    }
   ],
   "source": [
    "print(lineapy.save(y, \"y\").code)"
   ]
  },
  {
   "cell_type": "code",
   "execution_count": null,
   "id": "e4fb8000",
   "metadata": {},
   "outputs": [],
   "source": []
  }
 ],
 "metadata": {
  "kernelspec": {
   "display_name": "Python 3 (ipykernel)",
   "language": "python",
   "name": "python3"
  },
  "language_info": {
   "codemirror_mode": {
    "name": "ipython",
    "version": 3
   },
   "file_extension": ".py",
   "mimetype": "text/x-python",
   "name": "python",
   "nbconvert_exporter": "python",
   "pygments_lexer": "ipython3",
   "version": "3.9.7"
  },
  "widgets": {
   "application/vnd.jupyter.widget-state+json": {
    "state": {},
    "version_major": 2,
    "version_minor": 0
   }
  }
 },
 "nbformat": 4,
 "nbformat_minor": 5
}
