{
 "cells": [
  {
   "cell_type": "markdown",
   "id": "01e0f480-148e-48d4-92c0-a4ee4970786e",
   "metadata": {},
   "source": [
    "Test notebook that doesn't import lineapy directly, to test tracing via autoloaded ipython extension"
   ]
  },
  {
   "cell_type": "code",
   "execution_count": 1,
   "id": "2ff029fb-f841-4d05-9045-8cfcfad807f1",
   "metadata": {
    "execution": {
     "iopub.execute_input": "2021-10-22T22:38:40.676366Z",
     "iopub.status.busy": "2021-10-22T22:38:40.675672Z",
     "iopub.status.idle": "2021-10-22T22:38:40.693528Z",
     "shell.execute_reply": "2021-10-22T22:38:40.693031Z",
     "shell.execute_reply.started": "2021-10-22T21:22:20.885529Z"
    }
   },
   "outputs": [
    {
     "name": "stdout",
     "output_type": "stream",
     "text": [
      "\n"
     ]
    },
    {
     "data": {
      "text/plain": [
       "3"
      ]
     },
     "execution_count": 1,
     "metadata": {},
     "output_type": "execute_result"
    }
   ],
   "source": [
    "# NBVAL_IGNORE_OUTPUT\n",
    "1 + 2"
   ]
  },
  {
   "cell_type": "code",
   "execution_count": null,
   "id": "98a4b864-9996-4eae-8028-76cb4f8533ed",
   "metadata": {},
   "outputs": [],
   "source": []
  }
 ],
 "metadata": {
  "kernelspec": {
   "display_name": "Python 3 (ipykernel)",
   "language": "python",
   "name": "python3"
  },
  "language_info": {
   "codemirror_mode": {
    "name": "ipython",
    "version": 3
   },
   "file_extension": ".py",
   "mimetype": "text/x-python",
   "name": "python",
   "nbconvert_exporter": "python",
   "pygments_lexer": "ipython3",
   "version": "3.9.7"
  },
  "widgets": {
   "application/vnd.jupyter.widget-state+json": {
    "state": {},
    "version_major": 2,
    "version_minor": 0
   }
  }
 },
 "nbformat": 4,
 "nbformat_minor": 5
}
